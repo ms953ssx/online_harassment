{
 "cells": [
  {
   "cell_type": "code",
   "execution_count": 51,
   "metadata": {},
   "outputs": [],
   "source": [
    "import os\n",
    "import re\n",
    "import tweepy as tw\n",
    "import json\n",
    "import pandas as pd\n",
    "from scipy import sparse\n",
    "import numpy as np\n",
    "from snorkel.labeling import labeling_function\n",
    "from snorkel.labeling import LFApplier\n",
    "from snorkel.labeling import LFAnalysis\n",
    "from sklearn import svm\n",
    "from sklearn.model_selection import train_test_split\n",
    "import sqlite3\n",
    "\n",
    "\n",
    "NEGATIVE = 2\n",
    "ABSTAIN = 0\n",
    "POSITIVE = 1\n",
    "\n",
    "#Common names that have been found in dataset\n",
    "l_names_or_places = r\"(van dyke|ponce de leon|ponce city|ponce inlet town)\" \n",
    "@labeling_function()\n",
    "def names_or_places(tweet_text):\n",
    "    return NEGATIVE if re.search(l_names_or_places, tweet_text.lower()) else ABSTAIN\n",
    "\n",
    "#Common simple insults\n",
    "l_simple_insults = r\"(fucking|disgusting|ugly|bitchy|pathetic) (fag|faggot|fags|fudgepacker|fudge packer|poofter|pansy|bender|batty boy|ponce|dyke|rug muncher|lesbo|tranny|trannie|transvestite|ladyboy|heshe|shemale|switch hitter)\"\n",
    "@labeling_function()\n",
    "def simple_insults(tweet_text):\n",
    "    return POSITIVE if re.search(l_simple_insults, tweet_text.lower()) else ABSTAIN\n",
    "\n",
    "#Common terms used to identify the subject of a given bad term e.g. \"You ***\" \n",
    "l_term_to_person = r\"(that|this|you|shut the fuck up|stfu) (fag|faggot|fags|fudgepacker|fudge packer|poofter|pansy|bender|batty boy|ponce|dyke|rug muncher|lesbo|tranny|trannie|transvestite|ladyboy|heshe|shemale|switch hitter)\"\n",
    "@labeling_function()\n",
    "def term_to_person(tweet_text):\n",
    "    return POSITIVE if re.search(l_term_to_person, tweet_text.lower()) else ABSTAIN\n",
    "\n",
    "#Using term in a descriptive yet derogatory manner\n",
    "l_descriptive_bad = r\"(piece of|like a) (fag|faggot|fags|fudgepacker|fudge packer|poofter|pansy|bender|batty boy|ponce|dyke|rug muncher|lesbo|tranny|trannie|transvestite|ladyboy|heshe|shemale|switch hitter)\"\n",
    "@labeling_function()\n",
    "def descriptive_bad(tweet_text):\n",
    "    return POSITIVE if re.search(l_descriptive_bad, tweet_text.lower()) else ABSTAIN\n",
    "\n",
    "#Stating someone on the LGBT spectrum is unnatural\n",
    "l_against_nature = r\"(against|defying) (god|biology|nature)\"\n",
    "@labeling_function()\n",
    "def against_nature(tweet_text):\n",
    "    return POSITIVE if re.search(l_against_nature, tweet_text.lower()) else ABSTAIN\n",
    "\n",
    "\n",
    "#Contains trigger warning\n",
    "l_trigger_warnings = r\"(\\/+ *tw|\\/* *trigger warning)\"\n",
    "@labeling_function()\n",
    "def trigger_warning(tweet_text):\n",
    "    return NEGATIVE if re.search(l_trigger_warnings, tweet_text.lower()) else ABSTAIN\n",
    "\n",
    "#Using term 'Bender' when talking about drunken stints\n",
    "l_bender_as_drunk = r\"(day|on a) bender\"\n",
    "@labeling_function()\n",
    "def bender_as_drunk(tweet_text):\n",
    "    return NEGATIVE if re.search(l_bender_as_drunk, tweet_text.lower()) else ABSTAIN\n",
    "\n",
    "#Using Bender as a pop culture reference e.g. avatar the last airbender or Futurama reference\n",
    "l_bender_pop_culture = r\"((fender|water|earth|fire|wind|energy) *bender)|futurama.*bender|bender.*futurama|avatar.*bender\"\n",
    "@labeling_function()\n",
    "def bender_pop_culture(tweet_text):\n",
    "    return NEGATIVE if re.search(l_bender_pop_culture, tweet_text.lower()) else ABSTAIN\n",
    "\n",
    "#Using slang term for using cigarettes\n",
    "l_slang_using_cigarettes = r\"((for|smoke|have|smoking|having) (some|a) fags?)|fag ash\"\n",
    "@labeling_function()\n",
    "def slang_using_cigarettes(tweet_text):\n",
    "    return NEGATIVE if re.search(l_slang_using_cigarettes, tweet_text.lower()) else ABSTAIN\n",
    "\n",
    "#Slur is part of a mentioned twitter handle\n",
    "l_handles = r\"(\\@[a-z0-9_]*)\"\n",
    "@labeling_function()\n",
    "def slur_in_handles(tweet_text):\n",
    "    in_handle = 0\n",
    "    bad_terms = ['fag', 'faggot', 'fags', 'fudgepacker', 'fudge+packer', 'poofter', 'pansy', 'bender', 'batty+boy', 'ponce', 'dyke', 'rug+muncher', 'lesbo','tranny', 'trannie', 'transvestite', 'ladyboy', 'heshe', 'shemale','switch+hitter', 'gay+for+pay']\n",
    "    #check for slur in handle\n",
    "    handles = re.findall(l_handles, tweet_text.lower())\n",
    "    for handle in handles:\n",
    "        if any(substring in handle for substring in bad_terms):\n",
    "            in_handle+=1\n",
    "    return NEGATIVE if in_handle>0 else ABSTAIN\n",
    "\n",
    "#User has pronouns in bio\n",
    "@labeling_function()\n",
    "def has_pronouns(pronoun_tag):\n",
    "    return NEGATIVE if pronoun_tag==1 else ABSTAIN\n"
   ]
  },
  {
   "cell_type": "code",
   "execution_count": 25,
   "metadata": {},
   "outputs": [],
   "source": [
    "#instantiate labelling functions\n",
    "lfs = [names_or_places,simple_insults,term_to_person,descriptive_bad,against_nature,trigger_warning,bender_as_drunk,bender_pop_culture,slang_using_cigarettes,slur_in_handles]\n",
    "applier = LFApplier(lfs=lfs)\n",
    "#Store dict of tweets to labelling function output for performance analysis\n",
    "tweet_dict = {}\n",
    "#Connect to DB\n",
    "conn = sqlite3.connect(\"tweets.db\")\n",
    "#Retrieve Tweets from Database\n",
    "with conn:\n",
    "    cur = conn.cursor()\n",
    "    #Construct SQL Queries\n",
    "    #Obtain all manually labelled tweets from DB\n",
    "    pd_data = pd.read_sql(con=conn,sql=\"SELECT * FROM TWEETS WHERE ISHARASSMENT IS NOT NULL ORDER BY RANDOM()\")\n",
    "#Create train test split\n",
    "train, test = train_test_split(pd_data, test_size=0.33, random_state=42)\n"
   ]
  },
  {
   "cell_type": "code",
   "execution_count": 40,
   "metadata": {},
   "outputs": [],
   "source": [
    "def make_Ls_matrix(data, LFs):\n",
    "    noisy_labels = np.empty((len(data), len(LFs)))\n",
    "    for i, row in data.iterrows():\n",
    "        for j, lf in enumerate(LFs):\n",
    "            noisy_labels[i][j] = lf(row.TWEET)\n",
    "    return noisy_labels"
   ]
  },
  {
   "cell_type": "code",
   "execution_count": 41,
   "metadata": {},
   "outputs": [],
   "source": [
    "LF_matrix = make_Ls_matrix(pd_data, lfs)"
   ]
  },
  {
   "cell_type": "code",
   "execution_count": 53,
   "metadata": {},
   "outputs": [],
   "source": [
    "Y_LF_set = np.array(pd_data['ISHARASSMENT'])"
   ]
  },
  {
   "cell_type": "code",
   "execution_count": 54,
   "metadata": {},
   "outputs": [
    {
     "data": {
      "text/plain": [
       "array([[0., 0., 0., ..., 0., 0., 0.],\n",
       "       [0., 0., 0., ..., 0., 0., 0.],\n",
       "       [0., 0., 0., ..., 0., 0., 0.],\n",
       "       ...,\n",
       "       [0., 0., 0., ..., 0., 0., 0.],\n",
       "       [0., 0., 0., ..., 0., 0., 2.],\n",
       "       [0., 0., 0., ..., 0., 0., 0.]])"
      ]
     },
     "execution_count": 54,
     "metadata": {},
     "output_type": "execute_result"
    }
   ],
   "source": [
    "LF_matrix"
   ]
  },
  {
   "cell_type": "code",
   "execution_count": 55,
   "metadata": {},
   "outputs": [
    {
     "ename": "NameError",
     "evalue": "name 'LF_names' is not defined",
     "output_type": "error",
     "traceback": [
      "\u001b[0;31m---------------------------------------------------------------------------\u001b[0m",
      "\u001b[0;31mNameError\u001b[0m                                 Traceback (most recent call last)",
      "\u001b[0;32m<ipython-input-55-d5a0efddaa53>\u001b[0m in \u001b[0;36m<module>\u001b[0;34m\u001b[0m\n\u001b[1;32m      1\u001b[0m display(LFAnalysis.lf_summary(sparse.csr_matrix(LF_matrix),\n\u001b[1;32m      2\u001b[0m                              \u001b[0mY\u001b[0m\u001b[0;34m=\u001b[0m\u001b[0mY_LF_set\u001b[0m\u001b[0;34m,\u001b[0m\u001b[0;34m\u001b[0m\u001b[0;34m\u001b[0m\u001b[0m\n\u001b[0;32m----> 3\u001b[0;31m                              lf_names=LF_names.values()))\n\u001b[0m",
      "\u001b[0;31mNameError\u001b[0m: name 'LF_names' is not defined"
     ]
    }
   ],
   "source": [
    "display(LFAnalysis.lf_summary(sparse.csr_matrix(LF_matrix),\n",
    "                             Y=Y_LF_set,\n",
    "                             lf_names=LF_names.values()))"
   ]
  },
  {
   "cell_type": "code",
   "execution_count": null,
   "metadata": {},
   "outputs": [],
   "source": []
  }
 ],
 "metadata": {
  "kernelspec": {
   "display_name": "Python 3",
   "language": "python",
   "name": "python3"
  },
  "language_info": {
   "codemirror_mode": {
    "name": "ipython",
    "version": 3
   },
   "file_extension": ".py",
   "mimetype": "text/x-python",
   "name": "python",
   "nbconvert_exporter": "python",
   "pygments_lexer": "ipython3",
   "version": "3.8.5"
  }
 },
 "nbformat": 4,
 "nbformat_minor": 4
}
