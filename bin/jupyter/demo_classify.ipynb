{
 "cells": [
  {
   "cell_type": "markdown",
   "metadata": {},
   "source": [
    "<h1>Classifying Harassment Demo</h1>"
   ]
  },
  {
   "cell_type": "markdown",
   "metadata": {},
   "source": [
    " <h2>Required imports</h2>"
   ]
  },
  {
   "cell_type": "code",
   "execution_count": 20,
   "metadata": {},
   "outputs": [],
   "source": [
    "#Import dependencies\n",
    "import sqlite3\n",
    "from sklearn import svm\n",
    "from sklearn.model_selection import train_test_split\n",
    "import pandas as pd\n",
    "import numpy as np\n",
    "from sklearn.linear_model import LogisticRegression\n",
    "from sklearn.feature_extraction.text import CountVectorizer\n",
    "from sklearn.feature_extraction.text import TfidfTransformer\n",
    "from sklearn.metrics import accuracy_score\n",
    "from sklearn.metrics import confusion_matrix\n",
    "from sklearn.metrics import classification_report\n",
    "from sklearn.svm import SVC\n",
    "from sklearn.pipeline import Pipeline\n",
    "from sklearn.linear_model import SGDClassifier\n",
    "import math\n",
    "import warnings\n",
    "warnings.filterwarnings(\"ignore\")"
   ]
  },
  {
   "cell_type": "code",
   "execution_count": 21,
   "metadata": {},
   "outputs": [],
   "source": [
    "def get_labels(df):\n",
    "    labels = []\n",
    "    for i in range(len(df)):\n",
    "        if math.isnan(df.iloc[i].ISHARASSMENT):\n",
    "            labels.append(int(df.iloc[i].AUTO_ISHARASSMENT))\n",
    "        else:\n",
    "            labels.append(int(df.iloc[i].ISHARASSMENT))\n",
    "    return labels"
   ]
  },
  {
   "cell_type": "markdown",
   "metadata": {},
   "source": [
    "<h2>Retrieving Tweet datasets</h2>"
   ]
  },
  {
   "cell_type": "code",
   "execution_count": 22,
   "metadata": {},
   "outputs": [
    {
     "name": "stdout",
     "output_type": "stream",
     "text": [
      "number of automatically labelled tweets:  22261\n",
      "number of manually labelled tweets:  512\n"
     ]
    }
   ],
   "source": [
    "#Connect to DB\n",
    "conn = sqlite3.connect(\"../../etc/database_store/auto_tweets.db\")\n",
    "#Obtain all labelled tweets from DB\n",
    "auto_data = pd.read_sql(con=conn,sql=\"SELECT * FROM TWEETS WHERE AUTO_ISHARASSMENT IS NOT NULL OR ISHARASSMENT IS NOT NULL\")\n",
    "man_data = pd.read_sql(con=conn,sql=\"SELECT * FROM TWEETS WHERE ISHARASSMENT IS NOT NULL\")\n",
    "print(\"number of automatically labelled tweets: \", len(auto_data))\n",
    "print(\"number of manually labelled tweets: \", len(man_data))"
   ]
  },
  {
   "cell_type": "code",
   "execution_count": 23,
   "metadata": {},
   "outputs": [],
   "source": [
    "auto_labels = get_labels(auto_data)\n",
    "man_labels = get_labels(man_data)"
   ]
  },
  {
   "cell_type": "code",
   "execution_count": 24,
   "metadata": {},
   "outputs": [],
   "source": [
    "auto_X_train, auto_X_test, auto_y_train, auto_y_test  = train_test_split(auto_data,np.asarray(auto_labels),train_size=0.66,random_state=1234)\n",
    "man_X_train, man_X_test, man_y_train, man_y_test  = train_test_split(man_data, np.asarray(man_labels),train_size=0.66,random_state=3)"
   ]
  },
  {
   "cell_type": "markdown",
   "metadata": {},
   "source": [
    "<h2>Creating classifier pipelines to later apply on datasets</h2>"
   ]
  },
  {
   "cell_type": "code",
   "execution_count": 25,
   "metadata": {},
   "outputs": [],
   "source": [
    "svm_clf = Pipeline([\n",
    "    ('vect', CountVectorizer()),\n",
    "    ('tfidf', TfidfTransformer()),\n",
    "    ('clf', SGDClassifier()),\n",
    "])"
   ]
  },
  {
   "cell_type": "code",
   "execution_count": 26,
   "metadata": {},
   "outputs": [],
   "source": [
    "svc_clf = Pipeline([\n",
    "    ('vect', CountVectorizer()),\n",
    "    ('tfidf', TfidfTransformer()),\n",
    "    ('clf', SVC()),\n",
    "])"
   ]
  },
  {
   "cell_type": "markdown",
   "metadata": {},
   "source": [
    "<h2>Train on both datasets and produce predictions</h2>"
   ]
  },
  {
   "cell_type": "markdown",
   "metadata": {},
   "source": [
    "<h3>Performance of classifiers trained on Full dataset</h3>"
   ]
  },
  {
   "cell_type": "code",
   "execution_count": 27,
   "metadata": {},
   "outputs": [],
   "source": [
    "#Full dataset with automated labels\n",
    "svm_clf.fit(auto_X_train.TWEET, auto_y_train)\n",
    "auto_svm_pred = svm_clf.predict(auto_X_test.TWEET)\n",
    "svc_clf.fit(auto_X_train.TWEET, auto_y_train)\n",
    "auto_svc_pred = svc_clf.predict(auto_X_test.TWEET)"
   ]
  },
  {
   "cell_type": "code",
   "execution_count": 28,
   "metadata": {},
   "outputs": [
    {
     "name": "stdout",
     "output_type": "stream",
     "text": [
      "\n",
      "\n",
      "classification report for Support Vector Machine classifer\n",
      "               precision    recall  f1-score   support\n",
      "\n",
      "           0       0.94      0.96      0.95      6262\n",
      "           1       0.76      0.69      0.72      1307\n",
      "\n",
      "    accuracy                           0.91      7569\n",
      "   macro avg       0.85      0.82      0.83      7569\n",
      "weighted avg       0.91      0.91      0.91      7569\n",
      "\n",
      "confusion matrix for Support Vector Machine classifier\n",
      " [[5982  280]\n",
      " [ 409  898]]\n",
      "\n",
      "\n",
      "classification report for SVC classifier:\n",
      "               precision    recall  f1-score   support\n",
      "\n",
      "           0       0.93      0.96      0.95      6262\n",
      "           1       0.78      0.66      0.72      1307\n",
      "\n",
      "    accuracy                           0.91      7569\n",
      "   macro avg       0.86      0.81      0.83      7569\n",
      "weighted avg       0.91      0.91      0.91      7569\n",
      "\n",
      "confusion matrix for SVC classifier\n",
      " [[6025  237]\n",
      " [ 447  860]]\n"
     ]
    }
   ],
   "source": [
    "print(\"\\n\\nclassification report for Support Vector Machine classifer\\n\", classification_report(auto_y_test, auto_svm_pred, target_names=[\"0\",\"1\"]))\n",
    "print(\"confusion matrix for Support Vector Machine classifier\\n\",confusion_matrix(auto_y_test, auto_svm_pred))\n",
    "print(\"\\n\\nclassification report for SVC classifier:\\n\", classification_report(auto_y_test, auto_svc_pred, target_names=[\"0\",\"1\"]))\n",
    "print(\"confusion matrix for SVC classifier\\n\",confusion_matrix(auto_y_test, auto_svc_pred))"
   ]
  },
  {
   "cell_type": "markdown",
   "metadata": {},
   "source": [
    "<h3>Performance of classifiers trained on manually labelled dataset</h3>"
   ]
  },
  {
   "cell_type": "code",
   "execution_count": 29,
   "metadata": {},
   "outputs": [
    {
     "ename": "NameError",
     "evalue": "name 'ssvm_clf' is not defined",
     "output_type": "error",
     "traceback": [
      "\u001b[0;31m---------------------------------------------------------------------------\u001b[0m",
      "\u001b[0;31mNameError\u001b[0m                                 Traceback (most recent call last)",
      "\u001b[0;32m<ipython-input-29-7b1beb12b1da>\u001b[0m in \u001b[0;36m<module>\u001b[0;34m\u001b[0m\n\u001b[1;32m      1\u001b[0m \u001b[0;31m#Only manually labelled tweets\u001b[0m\u001b[0;34m\u001b[0m\u001b[0;34m\u001b[0m\u001b[0;34m\u001b[0m\u001b[0m\n\u001b[1;32m      2\u001b[0m \u001b[0msvm_clf\u001b[0m\u001b[0;34m.\u001b[0m\u001b[0mfit\u001b[0m\u001b[0;34m(\u001b[0m\u001b[0mman_X_train\u001b[0m\u001b[0;34m.\u001b[0m\u001b[0mTWEET\u001b[0m\u001b[0;34m,\u001b[0m \u001b[0mman_y_train\u001b[0m\u001b[0;34m)\u001b[0m\u001b[0;34m\u001b[0m\u001b[0;34m\u001b[0m\u001b[0m\n\u001b[0;32m----> 3\u001b[0;31m \u001b[0mman_svm_pred\u001b[0m \u001b[0;34m=\u001b[0m \u001b[0mssvm_clf\u001b[0m\u001b[0;34m.\u001b[0m\u001b[0mpredict\u001b[0m\u001b[0;34m(\u001b[0m\u001b[0mman_X_test\u001b[0m\u001b[0;34m.\u001b[0m\u001b[0mTWEET\u001b[0m\u001b[0;34m)\u001b[0m\u001b[0;34m\u001b[0m\u001b[0;34m\u001b[0m\u001b[0m\n\u001b[0m\u001b[1;32m      4\u001b[0m \u001b[0msvc_clf\u001b[0m\u001b[0;34m.\u001b[0m\u001b[0mfit\u001b[0m\u001b[0;34m(\u001b[0m\u001b[0mman_X_train\u001b[0m\u001b[0;34m.\u001b[0m\u001b[0mTWEET\u001b[0m\u001b[0;34m,\u001b[0m \u001b[0mman_y_train\u001b[0m\u001b[0;34m)\u001b[0m\u001b[0;34m\u001b[0m\u001b[0;34m\u001b[0m\u001b[0m\n\u001b[1;32m      5\u001b[0m \u001b[0mman_svc_pred\u001b[0m \u001b[0;34m=\u001b[0m \u001b[0msvc_clf\u001b[0m\u001b[0;34m.\u001b[0m\u001b[0mpredict\u001b[0m\u001b[0;34m(\u001b[0m\u001b[0mman_X_test\u001b[0m\u001b[0;34m.\u001b[0m\u001b[0mTWEET\u001b[0m\u001b[0;34m)\u001b[0m\u001b[0;34m\u001b[0m\u001b[0;34m\u001b[0m\u001b[0m\n",
      "\u001b[0;31mNameError\u001b[0m: name 'ssvm_clf' is not defined"
     ]
    }
   ],
   "source": [
    "#Only manually labelled tweets\n",
    "svm_clf.fit(man_X_train.TWEET, man_y_train)\n",
    "man_svm_pred = ssvm_clf.predict(man_X_test.TWEET)\n",
    "svc_clf.fit(man_X_train.TWEET, man_y_train)\n",
    "man_svc_pred = svc_clf.predict(man_X_test.TWEET)"
   ]
  },
  {
   "cell_type": "code",
   "execution_count": null,
   "metadata": {},
   "outputs": [],
   "source": [
    "print(\"\\n\\nclassification report for Support Vector Machine classifer\\n\", classification_report(man_y_test, man_svm_pred, target_names=[\"0\",\"1\"]))\n",
    "print(\"confusion matrix for Support Vector Machine classifier\\n\",confusion_matrix(man_y_test, man_svm_pred))\n",
    "print(\"\\n\\nclassification report for SVC classifier:\\n\", classification_report(man_y_test, man_svc_pred, target_names=[\"0\",\"1\"]))\n",
    "print(\"confusion matrix for SVC classifier\\n\",confusion_matrix(man_y_test, man_svc_pred))"
   ]
  },
  {
   "cell_type": "markdown",
   "metadata": {},
   "source": [
    "<h3>Giving the classifier trained on a smaller amount of data the benefit of the doubt, make predictions on the larger dataset"
   ]
  },
  {
   "cell_type": "code",
   "execution_count": null,
   "metadata": {},
   "outputs": [],
   "source": [
    "bigman_svm_pred = svm_clf.predict(auto_X_test.TWEET)\n",
    "bigman_svc_pred = svc_clf.predict(auto_X_test.TWEET)"
   ]
  },
  {
   "cell_type": "code",
   "execution_count": null,
   "metadata": {},
   "outputs": [],
   "source": [
    "print(\"\\n\\nclassification report for Support Vector Machine classifer\\n\", classification_report(auto_y_test, bigman_svm_pred, target_names=[\"0\",\"1\"]))\n",
    "print(\"confusion matrix for Support Vector Machine classifier\\n\",confusion_matrix(auto_y_test, bigman_svm_pred))\n",
    "print(\"\\n\\nclassification report for SVC classifier:\\n\", classification_report(auto_y_test, bigman_svc_pred, target_names=[\"0\",\"1\"]))\n",
    "print(\"confusion matrix for SVC classifier\\n\",confusion_matrix(auto_y_test, bigman_svc_pred))"
   ]
  },
  {
   "cell_type": "markdown",
   "metadata": {},
   "source": [
    "<h3>Testing Classifier trained on larger dataset on manual label dataset</h3>"
   ]
  },
  {
   "cell_type": "code",
   "execution_count": 14,
   "metadata": {},
   "outputs": [],
   "source": [
    "#Only manually labelled tweets\n",
    "svm_clf.fit(auto_X_train.TWEET, auto_y_train)\n",
    "autosmall_svm_pred = svm_clf.predict(man_X_test.TWEET)\n",
    "svc_clf.fit(auto_X_train.TWEET, auto_y_train)\n",
    "autosmall_svc_pred = svc_clf.predict(man_X_test.TWEET)"
   ]
  },
  {
   "cell_type": "code",
   "execution_count": 15,
   "metadata": {},
   "outputs": [
    {
     "name": "stdout",
     "output_type": "stream",
     "text": [
      "\n",
      "\n",
      "classification report for Support Vector Machine classifer\n",
      "               precision    recall  f1-score   support\n",
      "\n",
      "           0       0.87      0.95      0.91       131\n",
      "           1       0.81      0.59      0.68        44\n",
      "\n",
      "    accuracy                           0.86       175\n",
      "   macro avg       0.84      0.77      0.80       175\n",
      "weighted avg       0.86      0.86      0.86       175\n",
      "\n",
      "confusion matrix for Support Vector Machine classifier\n",
      " [[125   6]\n",
      " [ 18  26]]\n",
      "\n",
      "\n",
      "classification report for SVC classifier:\n",
      "               precision    recall  f1-score   support\n",
      "\n",
      "           0       0.89      0.98      0.93       131\n",
      "           1       0.93      0.64      0.76        44\n",
      "\n",
      "    accuracy                           0.90       175\n",
      "   macro avg       0.91      0.81      0.85       175\n",
      "weighted avg       0.90      0.90      0.89       175\n",
      "\n",
      "confusion matrix for SVC classifier\n",
      " [[129   2]\n",
      " [ 16  28]]\n"
     ]
    }
   ],
   "source": [
    "print(\"\\n\\nclassification report for Support Vector Machine classifer\\n\", classification_report(man_y_test, autosmall_svm_pred, target_names=[\"0\",\"1\"]))\n",
    "print(\"confusion matrix for Support Vector Machine classifier\\n\",confusion_matrix(man_y_test, autosmall_svm_pred))\n",
    "print(\"\\n\\nclassification report for SVC classifier:\\n\", classification_report(man_y_test, autosmall_svc_pred, target_names=[\"0\",\"1\"]))\n",
    "print(\"confusion matrix for SVC classifier\\n\",confusion_matrix(man_y_test, autosmall_svc_pred))"
   ]
  },
  {
   "cell_type": "code",
   "execution_count": null,
   "metadata": {},
   "outputs": [],
   "source": []
  },
  {
   "cell_type": "code",
   "execution_count": 16,
   "metadata": {},
   "outputs": [
    {
     "ename": "NameError",
     "evalue": "name 'labeling_function' is not defined",
     "output_type": "error",
     "traceback": [
      "\u001b[0;31m---------------------------------------------------------------------------\u001b[0m",
      "\u001b[0;31mNameError\u001b[0m                                 Traceback (most recent call last)",
      "\u001b[0;32m<ipython-input-16-244b19089ba7>\u001b[0m in \u001b[0;36m<module>\u001b[0;34m\u001b[0m\n\u001b[1;32m      2\u001b[0m \u001b[0ml_names_or_places\u001b[0m \u001b[0;34m=\u001b[0m \u001b[0;34mr\"(van ?dyke|ponce ?de ?leon|ponce ?city|ponce ?inlet ?town)\"\u001b[0m\u001b[0;34m\u001b[0m\u001b[0;34m\u001b[0m\u001b[0m\n\u001b[1;32m      3\u001b[0m \u001b[0ml_capitalised_names\u001b[0m \u001b[0;34m=\u001b[0m \u001b[0;34mr\"Dyke|Ponce|Bender\"\u001b[0m\u001b[0;34m\u001b[0m\u001b[0;34m\u001b[0m\u001b[0m\n\u001b[0;32m----> 4\u001b[0;31m \u001b[0;34m@\u001b[0m\u001b[0mlabeling_function\u001b[0m\u001b[0;34m(\u001b[0m\u001b[0;34m)\u001b[0m\u001b[0;34m\u001b[0m\u001b[0;34m\u001b[0m\u001b[0m\n\u001b[0m\u001b[1;32m      5\u001b[0m \u001b[0;32mdef\u001b[0m \u001b[0mnames_or_places\u001b[0m\u001b[0;34m(\u001b[0m\u001b[0mtweet\u001b[0m\u001b[0;34m)\u001b[0m\u001b[0;34m:\u001b[0m\u001b[0;34m\u001b[0m\u001b[0;34m\u001b[0m\u001b[0m\n\u001b[1;32m      6\u001b[0m     \u001b[0mis_name_case\u001b[0m \u001b[0;34m=\u001b[0m \u001b[0mre\u001b[0m\u001b[0;34m.\u001b[0m\u001b[0msearch\u001b[0m\u001b[0;34m(\u001b[0m\u001b[0ml_capitalised_names\u001b[0m\u001b[0;34m,\u001b[0m \u001b[0mtweet\u001b[0m\u001b[0;34m.\u001b[0m\u001b[0mTWEET\u001b[0m\u001b[0;34m)\u001b[0m\u001b[0;34m\u001b[0m\u001b[0;34m\u001b[0m\u001b[0m\n",
      "\u001b[0;31mNameError\u001b[0m: name 'labeling_function' is not defined"
     ]
    }
   ],
   "source": []
  },
  {
   "cell_type": "code",
   "execution_count": null,
   "metadata": {},
   "outputs": [],
   "source": [
    "#instantiate labelling functions\n",
    "lfs = [names_or_places,simple_insults,short_insult_tweet,term_to_person,descriptive_bad,against_nature,transphobic_statements,death_threats, gay_disease,full_caps,trigger_warning,bender_as_drunk,safe_bender,is_drawing,slang_using_cigarettes, safe_batty, innocent_question,term_in_quotations, received_term, slur_in_handles,has_pronouns]\n",
    "# has_image\n",
    "applier = LFApplier(lfs=lfs)\n",
    "pdapplier = PandasLFApplier(lfs=lfs)"
   ]
  },
  {
   "cell_type": "code",
   "execution_count": null,
   "metadata": {},
   "outputs": [],
   "source": []
  }
 ],
 "metadata": {
  "kernelspec": {
   "display_name": "Python 3",
   "language": "python",
   "name": "python3"
  },
  "language_info": {
   "codemirror_mode": {
    "name": "ipython",
    "version": 3
   },
   "file_extension": ".py",
   "mimetype": "text/x-python",
   "name": "python",
   "nbconvert_exporter": "python",
   "pygments_lexer": "ipython3",
   "version": "3.8.5"
  }
 },
 "nbformat": 4,
 "nbformat_minor": 4
}
