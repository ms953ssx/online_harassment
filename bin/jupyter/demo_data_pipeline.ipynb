{
 "cells": [
  {
   "cell_type": "markdown",
   "metadata": {},
   "source": [
    "<h1>Data Pipeline Demo</h1>"
   ]
  },
  {
   "cell_type": "markdown",
   "metadata": {},
   "source": [
    "<h2>Import prerequisites and prelabelled data</h2>"
   ]
  },
  {
   "cell_type": "code",
   "execution_count": 42,
   "metadata": {},
   "outputs": [],
   "source": [
    "import os\n",
    "import re\n",
    "import tweepy as tw\n",
    "import json\n",
    "import pandas as pd\n",
    "from scipy import sparse\n",
    "import numpy as np\n",
    "from snorkel.labeling import labeling_function\n",
    "from snorkel.labeling import LFApplier\n",
    "from snorkel.labeling import PandasLFApplier\n",
    "from snorkel.labeling import LFAnalysis\n",
    "from sklearn import svm\n",
    "from sklearn.model_selection import train_test_split\n",
    "import sqlite3"
   ]
  },
  {
   "cell_type": "code",
   "execution_count": 43,
   "metadata": {},
   "outputs": [
    {
     "name": "stderr",
     "output_type": "stream",
     "text": [
      "<ipython-input-43-203c9a4bd411>:2: FutureWarning: Passing a negative integer is deprecated in version 1.0 and will not be supported in future version. Instead, use None to not limit the column width.\n",
      "  pd.set_option('display.max_colwidth', -1)\n"
     ]
    }
   ],
   "source": [
    "#Update Pandas Dataframe so that displayed dataframes are not truncated\n",
    "pd.set_option('display.max_colwidth', -1)\n",
    "pd.set_option('display.max_rows', 500)"
   ]
  },
  {
   "cell_type": "markdown",
   "metadata": {},
   "source": [
    "<h3>Retrieve database of tweets</h3>"
   ]
  },
  {
   "cell_type": "code",
   "execution_count": 44,
   "metadata": {},
   "outputs": [
    {
     "name": "stdout",
     "output_type": "stream",
     "text": [
      "Opened Database successfully\n",
      "Retrieved Tweets Successfully\n"
     ]
    }
   ],
   "source": [
    "#Connect to DB\n",
    "conn = sqlite3.connect(\"../../etc/database_store/auto_tweets_2.db\")\n",
    "print(\"Opened Database successfully\")\n",
    "#Obtain all manually labelled tweets from DB\n",
    "pd_data = pd.read_sql(con=conn,sql=\"SELECT * FROM TWEETS WHERE ISHARASSMENT IS NOT NULL\")\n",
    "print(\"Retrieved Tweets Successfully\")\n",
    "#Create train test split\n",
    "df_train, df_test = train_test_split(pd_data, test_size=0.33, random_state=42)\n",
    "Y_test = df_test.ISHARASSMENT"
   ]
  },
  {
   "cell_type": "markdown",
   "metadata": {},
   "source": [
    "<h2>Inspect small number of tweets to understand format and identify patterns</h2>"
   ]
  },
  {
   "cell_type": "code",
   "execution_count": 45,
   "metadata": {},
   "outputs": [
    {
     "data": {
      "text/plain": [
       "26     Just wana be brukkinngg it down in a field with a Bacardi breezer in my batty riders 🕺🏼☀️                                                                                                                                                                                   \n",
       "7      Just what I needed today. A batty happily munching a banana. \\n\\nhttps://t.co/nPU0JFyePI                                                                                                                                                                                    \n",
       "181    Idk buy a gun and stop being a fag lol https://t.co/rAyexZtlXJ                                                                                                                                                                                                              \n",
       "464    @ttdagrah Ponce                                                                                                                                                                                                                                                             \n",
       "108    #NowPlaying Chris Bender - Glad In it (Radio Version)                                                                                                                                                                                                                       \n",
       "37     I am becoming a raypeeest at my house :) BHEWJHKVFHJWV faggot                                                                                                                                                                                                               \n",
       "157    Here’s a mind-bender:\\n\\nVirtual ‘#sculpture,’ based on #math, that’s everywhere and nowhere at once\\n\\n#Art #VirtualArt https://t.co/uqkE2xd5xT                                                                                                                            \n",
       "478    @Urunskinny_fag the chills                                                                                                                                                                                                                                                  \n",
       "118    Behind her eyes is a real mind bender at the end, like wow 😯                                                                                                                                                                                                                \n",
       "114    My fave scenes in #BXJForeverEpisodeThree (2/2) “Missing someone is more complicated than loving someone.” 💙💚 @teejaymarquez @ponce_jerome https://t.co/V70fjfImcb                                                                                                          \n",
       "266    @anglotel @westhamlouie07 @PrettyBubbles65 Get back to work batty boy 😂😂😂                                                                                                                                                                                                   \n",
       "175    Opening Twitter and the first thing I see is “Van Dyke Parks Big Daddy” https://t.co/EMbneIrmeT                                                                                                                                                                             \n",
       "434    // f slur \\n.\\n.\\n.\\n.\\n.\\nthis tweet called me a faggot. https://t.co/7UxQt5t14T                                                                                                                                                                                           \n",
       "349    stop calling white straight men fags/twinks challenge 😐                                                                                                                                                                                                                     \n",
       "144    @kissyIoki @Sereph9 @bucksblunt Avatar the last air bender                                                                                                                                                                                                                  \n",
       "383    @straight_fag need                                                                                                                                                                                                                                                          \n",
       "429    CariCOOS Buoy @ Ponce 6 PM: Wave height 2.6 ft from ESE(106 deg) @ 4.4 sec. Wind 12 kt from ESE. Surface current 0.77 kt towards ESE.                                                                                                                                       \n",
       "211    @DaibhidhABEB A packet of fags, two pints of lager, a packet of crisps and one penny and three farthings change. = 6/- 4d 3 farthings. 🍻👍🏻😀                                                                                                                                 \n",
       "321    @TSleftfoot What happened to Van Dyke ?                                                                                                                                                                                                                                     \n",
       "490    i literally just want to be dyke eloise. or just charlotte day wilson.                                                                                                                                                                                                      \n",
       "456    @CoolAssCatboy Yeah he never says my name he just called my faggot I hate him                                                                                                                                                                                               \n",
       "141    @TruthfulTreason From Minds. I didn’t know “pansy” was so offensive. https://t.co/Aop8U3isWK                                                                                                                                                                                \n",
       "374    plenty of living LGBT people are still scarred with being labelled as \"queer\" as a pejorative, and they're mostly from countries outside of the US, where you would be sooner called a \"queer\" than a \"faggot\". both carry comparative venom depending on where you grew up.\n",
       "67     @straight_fag Yeah yeah get in the bag https://t.co/0tYv4Q6rOM                                                                                                                                                                                                              \n",
       "364    I can't sleep... Fags write me now, I want to empty wallets, that relaxes me 😈🤑🔥                                                                                                                                                                                            \n",
       "Name: TWEET, dtype: object"
      ]
     },
     "execution_count": 45,
     "metadata": {},
     "output_type": "execute_result"
    }
   ],
   "source": [
    "df_train[10:35].TWEET"
   ]
  },
  {
   "cell_type": "markdown",
   "metadata": {},
   "source": [
    "<h3>Create Label Functions based on Identified patterns</h3>"
   ]
  },
  {
   "cell_type": "code",
   "execution_count": 46,
   "metadata": {},
   "outputs": [],
   "source": [
    "ABSTAIN = -1\n",
    "NEGATIVE = 0\n",
    "POSITIVE = 1\n",
    "\n",
    "#Common names that have been found in dataset\n",
    "l_names_or_places = r\"van dyke\" \n",
    "@labeling_function()\n",
    "def names_or_places(tweet):\n",
    "    return NEGATIVE if re.search(l_names_or_places, tweet.TWEET.lower()) else ABSTAIN\n",
    "\n",
    "#Phrase identified in dataset to be used in harassment\n",
    "l_offensive_phrase = r\"being a fag(got)?\"\n",
    "@labeling_function()\n",
    "def offensive_phrase(tweet):\n",
    "    return POSITIVE if re.search(l_offensive_phrase, tweet.TWEET.lower()) else ABSTAIN\n",
    "\n",
    "#Premade labelling function for purpose of displaying conflicts\n",
    "#Term is used in full caps\n",
    "l_bad_words_caps = r\"(FAGS?|FAGGOTS?|FUDGE ?PACKERS?|POOFTERS?|PANSY|PANSIES|BENDERS?|BATTY BOYS?|PONCE|DYKES?|RUG ?MUNCHERS?|LESBOS?|TRANNY|TRANNIES?|TRANSVESTITES?|LADYBOYS?|HESHES?|SHE ?MALES?|SWITCH ?-?HITTERS?)\"\n",
    "@labeling_function()\n",
    "def full_caps(tweet):\n",
    "    return POSITIVE if re.search(l_bad_words_caps, tweet.TWEET) else ABSTAIN"
   ]
  },
  {
   "cell_type": "code",
   "execution_count": 48,
   "metadata": {},
   "outputs": [],
   "source": [
    "#Instantiate functions and appliers\n",
    "lfs = [names_or_places, offensive_phrase, full_caps]\n",
    "applier = LFApplier(lfs=lfs)\n",
    "pdapplier = PandasLFApplier(lfs=lfs)"
   ]
  },
  {
   "cell_type": "markdown",
   "metadata": {},
   "source": [
    "<h3>Apply functions to dataset</h3>"
   ]
  },
  {
   "cell_type": "code",
   "execution_count": 49,
   "metadata": {},
   "outputs": [
    {
     "name": "stderr",
     "output_type": "stream",
     "text": [
      "100%|██████████| 343/343 [00:00<00:00, 6394.15it/s]\n"
     ]
    }
   ],
   "source": [
    "applier = PandasLFApplier(lfs=lfs)\n",
    "L_train = applier.apply(df=df_train)"
   ]
  },
  {
   "cell_type": "markdown",
   "metadata": {},
   "source": [
    "<h3>Inspect to ensure output is as expected</h3>"
   ]
  },
  {
   "cell_type": "code",
   "execution_count": 51,
   "metadata": {},
   "outputs": [
    {
     "name": "stdout",
     "output_type": "stream",
     "text": [
      "TWEETID                1372558262302822405                                           \n",
      "USERID                 1358165820015280132                                           \n",
      "TWEET                  Idk buy a gun and stop being a fag lol https://t.co/rAyexZtlXJ\n",
      "ISTYPEHOMOSEXUAL       1                                                             \n",
      "ISTYPETRANSGENDER      0                                                             \n",
      "ISTYPEBISEXUAL         0                                                             \n",
      "HASPRONOUNS            0.0                                                           \n",
      "ISHARASSMENT           1.0                                                           \n",
      "AUTO_ISHARASSMENT      1.0                                                           \n",
      "PASTEXPERIENCE         0.0                                                           \n",
      "AUTO_PASTEXPERIENCE    None                                                          \n",
      "CLEAN_TWEET            ink buy a gun and stop being a fag lol httpstcorayexztlxj     \n",
      "Name: 181, dtype: object [-1  1 -1]\n"
     ]
    }
   ],
   "source": [
    "print(df_train.iloc[12], L_train[12])"
   ]
  },
  {
   "cell_type": "code",
   "execution_count": 53,
   "metadata": {},
   "outputs": [
    {
     "name": "stdout",
     "output_type": "stream",
     "text": [
      "TWEETID                1370859019041173510                    \n",
      "USERID                 369160681                              \n",
      "TWEET                  @TSleftfoot What happened to Van Dyke ?\n",
      "ISTYPEHOMOSEXUAL       0                                      \n",
      "ISTYPETRANSGENDER      0                                      \n",
      "ISTYPEBISEXUAL         0                                      \n",
      "HASPRONOUNS            0.0                                    \n",
      "ISHARASSMENT           0.0                                    \n",
      "AUTO_ISHARASSMENT      0.0                                    \n",
      "PASTEXPERIENCE         NaN                                    \n",
      "AUTO_PASTEXPERIENCE    None                                   \n",
      "CLEAN_TWEET            tsleftfoot what happened to van dyke   \n",
      "Name: 321, dtype: object [ 0 -1 -1]\n"
     ]
    }
   ],
   "source": [
    "print(df_train.iloc[28], L_train[28])"
   ]
  },
  {
   "cell_type": "markdown",
   "metadata": {},
   "source": [
    "<h3>Analyse coverage of labelling functions</h3>"
   ]
  },
  {
   "cell_type": "code",
   "execution_count": 54,
   "metadata": {},
   "outputs": [
    {
     "data": {
      "text/html": [
       "<div>\n",
       "<style scoped>\n",
       "    .dataframe tbody tr th:only-of-type {\n",
       "        vertical-align: middle;\n",
       "    }\n",
       "\n",
       "    .dataframe tbody tr th {\n",
       "        vertical-align: top;\n",
       "    }\n",
       "\n",
       "    .dataframe thead th {\n",
       "        text-align: right;\n",
       "    }\n",
       "</style>\n",
       "<table border=\"1\" class=\"dataframe\">\n",
       "  <thead>\n",
       "    <tr style=\"text-align: right;\">\n",
       "      <th></th>\n",
       "      <th>j</th>\n",
       "      <th>Polarity</th>\n",
       "      <th>Coverage</th>\n",
       "      <th>Overlaps</th>\n",
       "      <th>Conflicts</th>\n",
       "    </tr>\n",
       "  </thead>\n",
       "  <tbody>\n",
       "    <tr>\n",
       "      <th>names_or_places</th>\n",
       "      <td>0</td>\n",
       "      <td>[0]</td>\n",
       "      <td>0.043732</td>\n",
       "      <td>0.005831</td>\n",
       "      <td>0.005831</td>\n",
       "    </tr>\n",
       "    <tr>\n",
       "      <th>offensive_phrase</th>\n",
       "      <td>1</td>\n",
       "      <td>[1]</td>\n",
       "      <td>0.005831</td>\n",
       "      <td>0.000000</td>\n",
       "      <td>0.000000</td>\n",
       "    </tr>\n",
       "    <tr>\n",
       "      <th>full_caps</th>\n",
       "      <td>2</td>\n",
       "      <td>[1]</td>\n",
       "      <td>0.037901</td>\n",
       "      <td>0.005831</td>\n",
       "      <td>0.005831</td>\n",
       "    </tr>\n",
       "  </tbody>\n",
       "</table>\n",
       "</div>"
      ],
      "text/plain": [
       "                  j Polarity  Coverage  Overlaps  Conflicts\n",
       "names_or_places   0  [0]      0.043732  0.005831  0.005831 \n",
       "offensive_phrase  1  [1]      0.005831  0.000000  0.000000 \n",
       "full_caps         2  [1]      0.037901  0.005831  0.005831 "
      ]
     },
     "execution_count": 54,
     "metadata": {},
     "output_type": "execute_result"
    }
   ],
   "source": [
    "LFAnalysis(L=L_train, lfs=lfs).lf_summary()"
   ]
  },
  {
   "cell_type": "markdown",
   "metadata": {},
   "source": [
    "Goal is to increase coverage as much as possible and minimise conflicts. Maximising performance may be okay to come to the expense of conflicts, provided that coverage of opposite polarity is high enough"
   ]
  },
  {
   "cell_type": "code",
   "execution_count": 56,
   "metadata": {},
   "outputs": [
    {
     "data": {
      "text/html": [
       "<div>\n",
       "<style scoped>\n",
       "    .dataframe tbody tr th:only-of-type {\n",
       "        vertical-align: middle;\n",
       "    }\n",
       "\n",
       "    .dataframe tbody tr th {\n",
       "        vertical-align: top;\n",
       "    }\n",
       "\n",
       "    .dataframe thead th {\n",
       "        text-align: right;\n",
       "    }\n",
       "</style>\n",
       "<table border=\"1\" class=\"dataframe\">\n",
       "  <thead>\n",
       "    <tr style=\"text-align: right;\">\n",
       "      <th></th>\n",
       "      <th>TWEETID</th>\n",
       "      <th>USERID</th>\n",
       "      <th>TWEET</th>\n",
       "      <th>ISTYPEHOMOSEXUAL</th>\n",
       "      <th>ISTYPETRANSGENDER</th>\n",
       "      <th>ISTYPEBISEXUAL</th>\n",
       "      <th>HASPRONOUNS</th>\n",
       "      <th>ISHARASSMENT</th>\n",
       "      <th>AUTO_ISHARASSMENT</th>\n",
       "      <th>PASTEXPERIENCE</th>\n",
       "      <th>AUTO_PASTEXPERIENCE</th>\n",
       "      <th>CLEAN_TWEET</th>\n",
       "    </tr>\n",
       "  </thead>\n",
       "  <tbody>\n",
       "    <tr>\n",
       "      <th>159</th>\n",
       "      <td>1365276638720782340</td>\n",
       "      <td>1359673537469026305</td>\n",
       "      <td>OH MY GOD WANDAVISION SPOILER SO IF YOU DONT WANNA SEE IT SCROLL\\n\\nHOW DID I NOT SEE SIMILARITIES WITH THE DICK VAN DYKE SHOW I USED TO WATCH IT WITH GRAMS ALL THE TIME</td>\n",
       "      <td>0</td>\n",
       "      <td>0</td>\n",
       "      <td>0</td>\n",
       "      <td>0.0</td>\n",
       "      <td>0.0</td>\n",
       "      <td>NaN</td>\n",
       "      <td>0.0</td>\n",
       "      <td>None</td>\n",
       "      <td>oh my god wandavision spoiler so if you dont wanna see it scrollhow did i not see similarities with the dick van dyke show i used to watch it with grams all the time</td>\n",
       "    </tr>\n",
       "    <tr>\n",
       "      <th>115</th>\n",
       "      <td>1365293783949180930</td>\n",
       "      <td>488515078</td>\n",
       "      <td>The biggest implication of WANDAVISION is that MALCOLM IN THE MIDDLE, I LOVE LUCY, and THE DICK VAN DYKE SHOW are all within the MCU now. Can’t take that back.</td>\n",
       "      <td>0</td>\n",
       "      <td>0</td>\n",
       "      <td>0</td>\n",
       "      <td>0.0</td>\n",
       "      <td>0.0</td>\n",
       "      <td>NaN</td>\n",
       "      <td>0.0</td>\n",
       "      <td>None</td>\n",
       "      <td>the biggest implication of wandavision is that malcolm in the middle i love lucy and the dick van dyke show are all within the mu now cant take that back</td>\n",
       "    </tr>\n",
       "  </tbody>\n",
       "</table>\n",
       "</div>"
      ],
      "text/plain": [
       "                 TWEETID               USERID  \\\n",
       "159  1365276638720782340  1359673537469026305   \n",
       "115  1365293783949180930  488515078             \n",
       "\n",
       "                                                                                                                                                                         TWEET  \\\n",
       "159  OH MY GOD WANDAVISION SPOILER SO IF YOU DONT WANNA SEE IT SCROLL\\n\\nHOW DID I NOT SEE SIMILARITIES WITH THE DICK VAN DYKE SHOW I USED TO WATCH IT WITH GRAMS ALL THE TIME   \n",
       "115  The biggest implication of WANDAVISION is that MALCOLM IN THE MIDDLE, I LOVE LUCY, and THE DICK VAN DYKE SHOW are all within the MCU now. Can’t take that back.             \n",
       "\n",
       "     ISTYPEHOMOSEXUAL  ISTYPETRANSGENDER  ISTYPEBISEXUAL  HASPRONOUNS  \\\n",
       "159  0                 0                  0               0.0           \n",
       "115  0                 0                  0               0.0           \n",
       "\n",
       "     ISHARASSMENT  AUTO_ISHARASSMENT  PASTEXPERIENCE AUTO_PASTEXPERIENCE  \\\n",
       "159  0.0          NaN                 0.0             None                 \n",
       "115  0.0          NaN                 0.0             None                 \n",
       "\n",
       "                                                                                                                                                               CLEAN_TWEET  \n",
       "159  oh my god wandavision spoiler so if you dont wanna see it scrollhow did i not see similarities with the dick van dyke show i used to watch it with grams all the time  \n",
       "115  the biggest implication of wandavision is that malcolm in the middle i love lucy and the dick van dyke show are all within the mu now cant take that back              "
      ]
     },
     "execution_count": 56,
     "metadata": {},
     "output_type": "execute_result"
    }
   ],
   "source": [
    "from snorkel.analysis import get_label_buckets\n",
    "#Split L_train matrix of labels into buckets, with second value being the index of label (e.g. 0 = label names_or_places)\n",
    "#Retrieve results with specified value, e.g. NEGATIVE on index 0 = return results that match name_or_place LF\n",
    "buckets = get_label_buckets(L_train[:,0], L_train[:, 2])\n",
    "df_train.iloc[buckets[(NEGATIVE, POSITIVE)]].sample(2, random_state=4)"
   ]
  },
  {
   "cell_type": "markdown",
   "metadata": {},
   "source": [
    "<h3>Train label model and evaluate performance</h3>"
   ]
  },
  {
   "cell_type": "code",
   "execution_count": 57,
   "metadata": {},
   "outputs": [
    {
     "name": "stderr",
     "output_type": "stream",
     "text": [
      "100%|██████████| 169/169 [00:00<00:00, 22805.40it/s]\n"
     ]
    }
   ],
   "source": [
    "L_test = applier.apply(df=df_test)"
   ]
  },
  {
   "cell_type": "code",
   "execution_count": 58,
   "metadata": {},
   "outputs": [],
   "source": [
    "from snorkel.labeling.model import MajorityLabelVoter\n",
    "\n",
    "majority_model = MajorityLabelVoter()\n",
    "preds_train = majority_model.predict(L=L_train, tie_break_policy=\"abstain\")"
   ]
  },
  {
   "cell_type": "code",
   "execution_count": 60,
   "metadata": {},
   "outputs": [
    {
     "name": "stderr",
     "output_type": "stream",
     "text": [
      "WARNING:root:Metrics calculated over data points with non-abstain labels only\n"
     ]
    },
    {
     "name": "stdout",
     "output_type": "stream",
     "text": [
      "Majority Vote Accuracy:   83.3%\n"
     ]
    }
   ],
   "source": [
    "majority_acc = majority_model.score(L=L_test, Y=Y_test, tie_break_policy=\"abstain\")[\n",
    "    \"accuracy\"\n",
    "]\n",
    "print(f\"{'Majority Vote Accuracy:':<25} {majority_acc * 100:.1f}%\")"
   ]
  },
  {
   "cell_type": "code",
   "execution_count": 61,
   "metadata": {},
   "outputs": [],
   "source": [
    "from snorkel.labeling.model import LabelModel\n",
    "\n",
    "label_model = LabelModel(cardinality=2, verbose=True)\n",
    "label_model.fit(L_train=L_train, n_epochs=500, log_freq=100, seed=123)"
   ]
  },
  {
   "cell_type": "code",
   "execution_count": 62,
   "metadata": {},
   "outputs": [
    {
     "data": {
      "text/plain": [
       "array([0.68770626, 0.82507676, 0.65740713])"
      ]
     },
     "execution_count": 62,
     "metadata": {},
     "output_type": "execute_result"
    }
   ],
   "source": [
    "label_model.get_weights()"
   ]
  },
  {
   "cell_type": "code",
   "execution_count": 63,
   "metadata": {},
   "outputs": [
    {
     "name": "stderr",
     "output_type": "stream",
     "text": [
      "WARNING:root:Metrics calculated over data points with non-abstain labels only\n"
     ]
    },
    {
     "name": "stdout",
     "output_type": "stream",
     "text": [
      "Label Model Accuracy:     85.714286%\n"
     ]
    }
   ],
   "source": [
    "label_model_acc = label_model.score(L=L_test, Y=Y_test, tie_break_policy=\"abstain\")[\n",
    "    \"accuracy\"\n",
    "]\n",
    "print(f\"{'Label Model Accuracy:':<25} {label_model_acc * 100:1f}%\")"
   ]
  },
  {
   "cell_type": "markdown",
   "metadata": {},
   "source": [
    "<h2>Apply to unseen data and create predictions"
   ]
  },
  {
   "cell_type": "markdown",
   "metadata": {},
   "source": [
    "<h3>Retrieve unseen tweets</h3>"
   ]
  },
  {
   "cell_type": "code",
   "execution_count": 64,
   "metadata": {},
   "outputs": [],
   "source": [
    "#Get unseen data\n",
    "#Connect to DB\n",
    "conn = sqlite3.connect(\"../../etc/database_store/auto_tweets_2.db\")\n",
    "#Retrieve Tweets from Database\n",
    "with conn:\n",
    "    cur = conn.cursor()\n",
    "    #Construct SQL Queries\n",
    "    #Obtain all manually labelled tweets from DB\n",
    "    new_data = pd.read_sql(con=conn,sql=\"SELECT * FROM TWEETS\")"
   ]
  },
  {
   "cell_type": "markdown",
   "metadata": {},
   "source": [
    "<h3>Apply labelling functions to unseen tweets</h3>"
   ]
  },
  {
   "cell_type": "code",
   "execution_count": 65,
   "metadata": {},
   "outputs": [
    {
     "name": "stderr",
     "output_type": "stream",
     "text": [
      "100%|██████████| 40266/40266 [00:01<00:00, 22055.65it/s]\n"
     ]
    }
   ],
   "source": [
    "#Apply on unseen data\n",
    "L_new = applier.apply(df=new_data)"
   ]
  },
  {
   "cell_type": "code",
   "execution_count": 66,
   "metadata": {},
   "outputs": [],
   "source": [
    "preds_new = majority_model.predict(L=L_new, tie_break_policy=\"abstain\")"
   ]
  },
  {
   "cell_type": "code",
   "execution_count": 68,
   "metadata": {},
   "outputs": [
    {
     "name": "stdout",
     "output_type": "stream",
     "text": [
      "Tweet:  CROSS THE LINE.  FAGGOT https://t.co/ZJKBATUhiz\n",
      "\n",
      "Automated Label:  1\n"
     ]
    }
   ],
   "source": [
    "print(\"Tweet: \", new_data.iloc[176].TWEET)\n",
    "print(\"\\nAutomated Label: \", preds_new[176])"
   ]
  },
  {
   "cell_type": "code",
   "execution_count": 69,
   "metadata": {},
   "outputs": [
    {
     "name": "stdout",
     "output_type": "stream",
     "text": [
      "Tweet:  I AM 100% QUEER I AM A FAGGOT\n",
      "\n",
      "Automated Label:  1\n"
     ]
    }
   ],
   "source": [
    "print(\"Tweet: \", new_data.iloc[155].TWEET)\n",
    "print(\"\\nAutomated Label: \", preds_new[155])"
   ]
  },
  {
   "cell_type": "markdown",
   "metadata": {},
   "source": [
    "<h1>Import All Labeling functions from end product</h1>"
   ]
  },
  {
   "cell_type": "code",
   "execution_count": 70,
   "metadata": {},
   "outputs": [],
   "source": [
    "#Common names that have been found in dataset\n",
    "l_names_or_places = r\"(van ?dyke|ponce ?de ?leon|ponce ?city|ponce ?inlet ?town)\" \n",
    "l_capitalised_names = r\"Dyke|Ponce|Bender\"\n",
    "@labeling_function()\n",
    "def names_or_places(tweet):\n",
    "    is_name_case = re.search(l_capitalised_names, tweet.TWEET)\n",
    "    return NEGATIVE if re.search(l_names_or_places, tweet.TWEET.lower()) or is_name_case else ABSTAIN\n",
    "\n",
    "#Common simple insults\n",
    "l_simple_insults = r\"(fucking|disgusting|ugly|bitchy|pathetic|gay|scamming)(\\w|\\s){0,20}(fag|faggot|fags|fudgepacker|fudge packer|poofter|pansy|bender|batty boy|ponce|dyke|rug muncher|lesbo|tranny|trannie|transvestite|ladyboy|heshe|shemale|switch hitter)\"\n",
    "@labeling_function()\n",
    "def simple_insults(tweet):\n",
    "    return POSITIVE if re.search(l_simple_insults, tweet.CLEAN_TWEET) else ABSTAIN\n",
    "\n",
    "#Short tweet containing an offensive term and little more\n",
    "l_slurs = r\"(fag|faggot|fudge ?packer|poofter|pansy|bender|batty ?boy|ponce|dyke|rug ?muncher|lesbo|tranny|trannie|transvestite|ladyboy|heshe|shemale|switch hitter)s?\"\n",
    "@labeling_function()\n",
    "def short_insult_tweet(tweet):\n",
    "    #Remove handles from tweet\n",
    "    tweet = re.sub('@[\\w]+','',tweet.TWEET)\n",
    "    return POSITIVE if re.search(l_slurs, tweet.lower()) and len(tweet) < 18 else ABSTAIN\n",
    "\n",
    "#Common terms used to identify the subject of a given bad term e.g. \"You ***\" \n",
    "l_term_to_person = r\"(that|you|shut the fuck up|stfu|shut up|these)(\\w|\\s){0,5}(fag|faggot|fudge ?packer|poofter|pansy|bender|batty ?boy|ponce|dyke|rug ?muncher|lesbo|tranny|trannie|transvestite|ladyboy|heshe|shemale|switch hitter)s?\"\n",
    "@labeling_function()\n",
    "def term_to_person(tweet):\n",
    "    return POSITIVE if re.search(l_term_to_person, tweet.TWEET.lower()) else ABSTAIN\n",
    "\n",
    "#Using term in a descriptive yet derogatory manner\n",
    "l_descriptive_bad = r\"(piece of|like a|being a|kind of a?|what a|this|(bunch ?(of | ?a?))|some) ?(fag|faggot|fudge ?packer|poofter|pansy|bender|batty ?boy|ponce|dyke|rug ?muncher|lesbo|tranny|trannie|transvestite|ladyboy|heshe|shemale|switch hitter)s?( (bull|dog)?shit)?\"\n",
    "@labeling_function()\n",
    "def descriptive_bad(tweet):\n",
    "    return POSITIVE if re.search(l_descriptive_bad, tweet.CLEAN_TWEET) else ABSTAIN\n",
    "\n",
    "#Stating someone on the LGBT spectrum is unnatural\n",
    "l_against_nature = r\"(against|defying) ?(god|biology|nature)\"\n",
    "@labeling_function()\n",
    "def against_nature(tweet):\n",
    "    return POSITIVE if re.search(l_against_nature, tweet.CLEAN_TWEET) else ABSTAIN\n",
    "\n",
    "#General Transphobic statements e.g. stating someone who is transgender is not a 'real' person of that gender\n",
    "l_transphobic_statements = r\"(false|fake) (advertising|male|man|woman|female|girl|boy)\"\n",
    "@labeling_function()\n",
    "def transphobic_statements(tweet):\n",
    "    return POSITIVE if re.search(l_transphobic_statements, tweet.CLEAN_TWEET) else ABSTAIN\n",
    "\n",
    "#Sending death threats\n",
    "l_death_threats = r\"kill (yo)?urself|kys|neck (it|(yo)?ursel(f|ves)|themsel(f|ves))|needs? to die\"\n",
    "@labeling_function()\n",
    "def death_threats(tweet):\n",
    "    return POSITIVE if re.search(l_death_threats, tweet.TWEET.lower()) else ABSTAIN\n",
    "    \n",
    "#Stating gay people are more likely to get disease/aids or are a disease themselves\n",
    "l_disease = r\"(gay|dyke|fag|faggot)(\\w|\\s|\\D){0,20}(disease|aids|cancer)\"\n",
    "@labeling_function()\n",
    "def gay_disease(tweet):\n",
    "    return POSITIVE if re.search(l_disease, tweet.CLEAN_TWEET) else ABSTAIN\n",
    "\n",
    "#Term is used in full caps\n",
    "l_bad_words_caps = r\"(FAGS?|FAGGOTS?|FUDGE ?PACKERS?|POOFTERS?|PANSY|PANSIES|BENDERS?|BATTY BOYS?|PONCE|DYKES?|RUG ?MUNCHERS?|LESBOS?|TRANNY|TRANNIES?|TRANSVESTITES?|LADYBOYS?|HESHES?|SHE ?MALES?|SWITCH ?-?HITTERS?)\"\n",
    "@labeling_function()\n",
    "def full_caps(tweet):\n",
    "    return POSITIVE if re.search(l_bad_words_caps, tweet.TWEET) else ABSTAIN\n",
    "\n",
    "#Contains trigger warning\n",
    "l_trigger_warnings = r\"(\\/+ *tw|\\/* *trigger warning|tw *\\/+)\"\n",
    "@labeling_function()\n",
    "def trigger_warning(tweet):\n",
    "    return NEGATIVE if re.search(l_trigger_warnings, tweet.TWEET.lower()) else ABSTAIN\n",
    "\n",
    "#Using term 'Bender' when talking about drunken stints\n",
    "l_bender_as_drunk = r\"(day|on a)? ?bender( weekend)?\"\n",
    "@labeling_function()\n",
    "def bender_as_drunk(tweet):\n",
    "    return NEGATIVE if re.search(l_bender_as_drunk, tweet.CLEAN_TWEET) else ABSTAIN\n",
    "\n",
    "#Using Bender as a pop culture reference e.g. avatar the last airbender or Futurama reference\n",
    "l_safe_bender = r\"((fender|water|earth|fire|wind|energy|mind) *bender)|futurama.*bender|bender.*futurama|avatar.*bender|the last\"\n",
    "@labeling_function()\n",
    "def safe_bender(tweet):\n",
    "    return NEGATIVE if re.search(l_safe_bender, tweet.CLEAN_TWEET) else ABSTAIN\n",
    "\n",
    "#If tweet contains drawing, it may be fan art of one of the previous pop culture references\n",
    "l_drawing = r\"((fan ?)art| art |drawing|i drew|(ha|i'?)ve drawn)\"\n",
    "@labeling_function()\n",
    "def is_drawing(tweet):\n",
    "    return NEGATIVE if re.search(l_drawing, tweet.CLEAN_TWEET) else ABSTAIN\n",
    "\n",
    "#If tweet contains link in form t.co , its likely to be an image and unrelated to harassment. \n",
    "l_check_link = r'(https?:\\/\\/t\\.co)' \n",
    "@labeling_function()\n",
    "def has_image(tweet):\n",
    "    return NEGATIVE if re.search(l_check_link, tweet.TWEET.lower()) else ABSTAIN\n",
    "\n",
    "#Using slang term for using cigarettes\n",
    "l_slang_using_cigarettes = r\"(for a|smoke a|h?ave?|smoking?|having?|light|pack|get|smell(s|ing)?)(\\w|\\s){0,25}fags?|fag ash|(un)?lit fags?|want (a|some|a couple (of)?) fags?|fag (in(\\w|\\s){0,8}hand|pack(et)?)|(\\d){1,4} fags|fag (brands?)|brands? (of|a) fags?\"\n",
    "@labeling_function()\n",
    "def slang_using_cigarettes(tweet):\n",
    "    return NEGATIVE if re.search(l_slang_using_cigarettes, tweet.CLEAN_TWEET) else ABSTAIN\n",
    "\n",
    "#Uses term 'batty' by itself, as is insulting only when followed by 'boy'\n",
    "l_safe_batty = r\"batty ?(?!boy|man)\"\n",
    "@labeling_function()\n",
    "def safe_batty(tweet):\n",
    "    return NEGATIVE if re.search(l_safe_batty, tweet.CLEAN_TWEET) else ABSTAIN\n",
    "\n",
    "#Uses term in an innocent question\n",
    "l_question = r\"what( is| does|'s)(\\w|\\s){0,15}(fag|faggot|fags|fudge ?packer|poofter|pansy|bender|batty ?boy|ponce|dyke|rug ?muncher|lesbo|tranny|trannie|transvestite|ladyboy|heshe|shemale|switch ?hitter)s?\"\n",
    "@labeling_function()\n",
    "def innocent_question(tweet):\n",
    "    return NEGATIVE if re.search(l_question, tweet.CLEAN_TWEET) else ABSTAIN\n",
    "\n",
    "#Uses term in quotation marks, meaning likely to be talking in third person or about an experience\n",
    "l_quotations = r'\\\"(fag|faggot|fags|fudgepacker|fudge packer|poofter|pansy|bender|batty boy|ponce|dyke|rug muncher|lesbo|tranny|trannie|transvestite|ladyboy|heshe|shemale|switch hitter)\"'\n",
    "@labeling_function()\n",
    "def term_in_quotations(tweet):\n",
    "    return NEGATIVE if re.search(l_quotations, tweet.TWEET.lower()) else ABSTAIN\n",
    "\n",
    "#Uses term in talking about experience, meaning unlikely to be harassment\n",
    "l_received_term = r\"((((call(ed|ing)?|telling|told) ?(me|them|her|him|us|my))|(said|saying))(\\w|\\s){0,30}(fag|faggot|fags|fudge ?packer|poofter|pansy|bender|batty ?boy|ponce|dyke|rug ?muncher|lesbo|tranny|trannie|transvestite|ladyboy|heshe|shemale|switch ?hitter)s?)\"\n",
    "@labeling_function()\n",
    "def received_term(tweet):\n",
    "    return NEGATIVE if re.search(l_received_term, tweet.CLEAN_TWEET) else ABSTAIN\n",
    "\n",
    "#Slur is part of a mentioned twitter handle\n",
    "l_handles = r\"(\\@[a-z0-9_]*)\"\n",
    "@labeling_function()\n",
    "def slur_in_handles(tweet):\n",
    "    in_handle = 0\n",
    "    bad_terms = ['fag', 'faggot', 'fags', 'fudgepacker', 'poofter', 'pansy', 'bender', 'ponce', 'dyke', 'lesbo','tranny', 'trannie', 'transvestite', 'ladyboy', 'heshe', 'shemale', 'gayforpay']\n",
    "    #check for slur in handle\n",
    "    handles = re.findall(l_handles, tweet.TWEET.lower())\n",
    "    for handle in handles:\n",
    "        if any(substring in handle for substring in bad_terms):\n",
    "            in_handle+=1\n",
    "    return NEGATIVE if in_handle>0 else ABSTAIN\n",
    "\n",
    "#User has pronouns in bio\n",
    "@labeling_function()\n",
    "def has_pronouns(tweet):\n",
    "    return NEGATIVE if tweet.HASPRONOUNS==1 else ABSTAIN"
   ]
  },
  {
   "cell_type": "code",
   "execution_count": 71,
   "metadata": {},
   "outputs": [],
   "source": [
    "#instantiate labelling functions\n",
    "lfs = [names_or_places,simple_insults,short_insult_tweet,term_to_person,descriptive_bad,against_nature,transphobic_statements,death_threats, gay_disease,full_caps,trigger_warning,bender_as_drunk,safe_bender,is_drawing,slang_using_cigarettes, safe_batty, innocent_question,term_in_quotations, received_term, slur_in_handles,has_pronouns]\n",
    "# has_image\n",
    "applier = LFApplier(lfs=lfs)\n",
    "pdapplier = PandasLFApplier(lfs=lfs)"
   ]
  },
  {
   "cell_type": "code",
   "execution_count": 72,
   "metadata": {},
   "outputs": [
    {
     "name": "stderr",
     "output_type": "stream",
     "text": [
      "100%|██████████| 343/343 [00:00<00:00, 2458.65it/s]\n",
      "100%|██████████| 169/169 [00:00<00:00, 2208.51it/s]\n"
     ]
    }
   ],
   "source": [
    "applier = PandasLFApplier(lfs=lfs)\n",
    "L_train = applier.apply(df=df_train)\n",
    "L_test = applier.apply(df=df_test)"
   ]
  },
  {
   "cell_type": "code",
   "execution_count": 73,
   "metadata": {},
   "outputs": [],
   "source": [
    "from snorkel.labeling.model import MajorityLabelVoter\n",
    "\n",
    "majority_model = MajorityLabelVoter()\n",
    "preds_train = majority_model.predict(L=L_train, tie_break_policy=\"abstain\")"
   ]
  },
  {
   "cell_type": "code",
   "execution_count": 74,
   "metadata": {},
   "outputs": [],
   "source": [
    "preds_new = majority_model.predict(L=L_new, tie_break_policy=\"abstain\")"
   ]
  },
  {
   "cell_type": "code",
   "execution_count": 75,
   "metadata": {},
   "outputs": [
    {
     "name": "stderr",
     "output_type": "stream",
     "text": [
      "WARNING:root:Metrics calculated over data points with non-abstain labels only\n"
     ]
    },
    {
     "name": "stdout",
     "output_type": "stream",
     "text": [
      "Majority Vote Accuracy:   88.8%\n"
     ]
    }
   ],
   "source": [
    "majority_acc = majority_model.score(L=L_test, Y=Y_test, tie_break_policy=\"abstain\")[\n",
    "    \"accuracy\"\n",
    "]\n",
    "print(f\"{'Majority Vote Accuracy:':<25} {majority_acc * 100:.1f}%\")"
   ]
  },
  {
   "cell_type": "code",
   "execution_count": null,
   "metadata": {},
   "outputs": [],
   "source": []
  },
  {
   "cell_type": "code",
   "execution_count": null,
   "metadata": {},
   "outputs": [],
   "source": []
  }
 ],
 "metadata": {
  "kernelspec": {
   "display_name": "Python 3",
   "language": "python",
   "name": "python3"
  },
  "language_info": {
   "codemirror_mode": {
    "name": "ipython",
    "version": 3
   },
   "file_extension": ".py",
   "mimetype": "text/x-python",
   "name": "python",
   "nbconvert_exporter": "python",
   "pygments_lexer": "ipython3",
   "version": "3.8.5"
  }
 },
 "nbformat": 4,
 "nbformat_minor": 4
}
