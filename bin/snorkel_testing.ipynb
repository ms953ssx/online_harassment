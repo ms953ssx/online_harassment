{
 "cells": [
  {
   "cell_type": "code",
   "execution_count": 131,
   "metadata": {},
   "outputs": [],
   "source": [
    "import os\n",
    "import re\n",
    "import tweepy as tw\n",
    "import json\n",
    "import pandas as pd\n",
    "from scipy import sparse\n",
    "import numpy as np\n",
    "from snorkel.labeling import labeling_function\n",
    "from snorkel.labeling import LFApplier\n",
    "from snorkel.labeling import PandasLFApplier\n",
    "from snorkel.labeling import LFAnalysis\n",
    "from sklearn import svm\n",
    "from sklearn.model_selection import train_test_split\n",
    "import sqlite3\n",
    "\n",
    "ABSTAIN = -1\n",
    "NEGATIVE = 0\n",
    "POSITIVE = 1\n",
    "\n",
    "#Common names that have been found in dataset\n",
    "l_names_or_places = r\"(van dyke|ponce de leon|ponce city|ponce inlet town)\" \n",
    "@labeling_function()\n",
    "def names_or_places(tweet):\n",
    "    return NEGATIVE if re.search(l_names_or_places, tweet.TWEET.lower()) else ABSTAIN\n",
    "\n",
    "#Common simple insults\n",
    "l_simple_insults = r\"(fucking|disgusting|ugly|bitchy|pathetic) (fag|faggot|fags|fudgepacker|fudge packer|poofter|pansy|bender|batty boy|ponce|dyke|rug muncher|lesbo|tranny|trannie|transvestite|ladyboy|heshe|shemale|switch hitter)\"\n",
    "@labeling_function()\n",
    "def simple_insults(tweet):\n",
    "    return POSITIVE if re.search(l_simple_insults, tweet.TWEET.lower()) else ABSTAIN\n",
    "\n",
    "#Common terms used to identify the subject of a given bad term e.g. \"You ***\" \n",
    "l_term_to_person = r\"(that|this|you|shut the fuck up|stfu) (fag|faggot|fags|fudgepacker|fudge packer|poofter|pansy|bender|batty boy|ponce|dyke|rug muncher|lesbo|tranny|trannie|transvestite|ladyboy|heshe|shemale|switch hitter)\"\n",
    "@labeling_function()\n",
    "def term_to_person(tweet):\n",
    "    return POSITIVE if re.search(l_term_to_person, tweet.TWEET.lower()) else ABSTAIN\n",
    "\n",
    "#Using term in a descriptive yet derogatory manner\n",
    "l_descriptive_bad = r\"(piece of|like a) (fag|faggot|fags|fudgepacker|fudge packer|poofter|pansy|bender|batty boy|ponce|dyke|rug muncher|lesbo|tranny|trannie|transvestite|ladyboy|heshe|shemale|switch hitter)\"\n",
    "@labeling_function()\n",
    "def descriptive_bad(tweet):\n",
    "    return POSITIVE if re.search(l_descriptive_bad, tweet.TWEET.lower()) else ABSTAIN\n",
    "\n",
    "#Stating someone on the LGBT spectrum is unnatural\n",
    "l_against_nature = r\"(against|defying) (god|biology|nature)\"\n",
    "@labeling_function()\n",
    "def against_nature(tweet):\n",
    "    return POSITIVE if re.search(l_against_nature, tweet.TWEET.lower()) else ABSTAIN\n",
    "\n",
    "\n",
    "#Contains trigger warning\n",
    "l_trigger_warnings = r\"(\\/+ *tw|\\/* *trigger warning)\"\n",
    "@labeling_function()\n",
    "def trigger_warning(tweet):\n",
    "    return NEGATIVE if re.search(l_trigger_warnings, tweet.TWEET.lower()) else ABSTAIN\n",
    "\n",
    "#Using term 'Bender' when talking about drunken stints\n",
    "l_bender_as_drunk = r\"(day|on a) bender\"\n",
    "@labeling_function()\n",
    "def bender_as_drunk(tweet):\n",
    "    return NEGATIVE if re.search(l_bender_as_drunk, tweet.TWEET.lower()) else ABSTAIN\n",
    "\n",
    "#Using Bender as a pop culture reference e.g. avatar the last airbender or Futurama reference\n",
    "l_bender_pop_culture = r\"((fender|water|earth|fire|wind|energy) *bender)|futurama.*bender|bender.*futurama|avatar.*bender\"\n",
    "@labeling_function()\n",
    "def bender_pop_culture(tweet):\n",
    "    return NEGATIVE if re.search(l_bender_pop_culture, tweet.TWEET.lower()) else ABSTAIN\n",
    "\n",
    "#Using slang term for using cigarettes\n",
    "l_slang_using_cigarettes = r\"((for|smoke|have|smoking|having) (some|a) fags?)|fag ash\"\n",
    "@labeling_function()\n",
    "def slang_using_cigarettes(tweet):\n",
    "    return NEGATIVE if re.search(l_slang_using_cigarettes, tweet.TWEET.lower()) else ABSTAIN\n",
    "\n",
    "#Slur is part of a mentioned twitter handle\n",
    "l_handles = r\"(\\@[a-z0-9_]*)\"\n",
    "@labeling_function()\n",
    "def slur_in_handles(tweet):\n",
    "    in_handle = 0\n",
    "    bad_terms = ['fag', 'faggot', 'fags', 'fudgepacker', 'fudge+packer', 'poofter', 'pansy', 'bender', 'batty+boy', 'ponce', 'dyke', 'rug+muncher', 'lesbo','tranny', 'trannie', 'transvestite', 'ladyboy', 'heshe', 'shemale','switch+hitter', 'gay+for+pay']\n",
    "    #check for slur in handle\n",
    "    handles = re.findall(l_handles, tweet.TWEET.lower())\n",
    "    for handle in handles:\n",
    "        if any(substring in handle for substring in bad_terms):\n",
    "            in_handle+=1\n",
    "    return NEGATIVE if in_handle>0 else ABSTAIN\n",
    "\n",
    "#User has pronouns in bio\n",
    "@labeling_function()\n",
    "def has_pronouns(tweet):\n",
    "    return NEGATIVE if tweet.HASPRONOUNS==1 else ABSTAIN\n",
    "\n",
    "def make_Ls_matrix(data, LFs):\n",
    "    noisy_labels = np.empty((len(data), len(LFs)))\n",
    "    for i, row in data.iterrows():\n",
    "        for j, lf in enumerate(LFs):\n",
    "            noisy_labels[i][j] = lf(row)\n",
    "    return noisy_labels\n"
   ]
  },
  {
   "cell_type": "code",
   "execution_count": 132,
   "metadata": {},
   "outputs": [],
   "source": [
    "#instantiate labelling functions\n",
    "lfs = [names_or_places,simple_insults,term_to_person,descriptive_bad,against_nature,trigger_warning,bender_as_drunk,bender_pop_culture,slang_using_cigarettes,slur_in_handles,has_pronouns]\n",
    "applier = LFApplier(lfs=lfs)\n",
    "pdapplier = PandasLFApplier(lfs=lfs)\n",
    "#Store dict of tweets to labelling function output for performance analysis\n",
    "tweet_dict = {}\n",
    "#Connect to DB\n",
    "conn = sqlite3.connect(\"tweets.db\")\n",
    "#Retrieve Tweets from Database\n",
    "with conn:\n",
    "    cur = conn.cursor()\n",
    "    #Construct SQL Queries\n",
    "    #Obtain all manually labelled tweets from DB\n",
    "    pd_data = pd.read_sql(con=conn,sql=\"SELECT * FROM TWEETS WHERE ISHARASSMENT IS NOT NULL ORDER BY RANDOM()\")\n",
    "#Create train test split\n",
    "df_train, df_test = train_test_split(pd_data, test_size=0.33, random_state=42)\n",
    "\n",
    "Y_test = test.ISHARASSMENT"
   ]
  },
  {
   "cell_type": "markdown",
   "metadata": {},
   "source": [
    "https://www.snorkel.org/use-cases/01-spam-tutorial"
   ]
  },
  {
   "cell_type": "code",
   "execution_count": 133,
   "metadata": {},
   "outputs": [
    {
     "name": "stderr",
     "output_type": "stream",
     "text": [
      "100%|██████████| 342/342 [00:00<00:00, 5659.39it/s]\n"
     ]
    }
   ],
   "source": [
    "\n",
    "applier = PandasLFApplier(lfs=lfs)\n",
    "L_train = applier.apply(df=df_train)"
   ]
  },
  {
   "cell_type": "code",
   "execution_count": 134,
   "metadata": {
    "scrolled": true
   },
   "outputs": [
    {
     "data": {
      "text/plain": [
       "array([-1, -1, -1, -1, -1, -1, -1, -1, -1, -1, -1])"
      ]
     },
     "execution_count": 134,
     "metadata": {},
     "output_type": "execute_result"
    }
   ],
   "source": [
    "L_train[0]"
   ]
  },
  {
   "cell_type": "code",
   "execution_count": 135,
   "metadata": {},
   "outputs": [
    {
     "name": "stdout",
     "output_type": "stream",
     "text": [
      "coverage names or places: 7.60233918128655%\n",
      "coverage simple insults: 0.87719298245614%\n",
      "coverage term to person: 2.63157894736842%\n",
      "coverage descriptive bad term: 0.58479532163743%\n",
      "coverage against nature: 0.00000000000000%\n",
      "coverage trigger warning: 0.29239766081871%\n",
      "coverage bender as drunk: 2.04678362573099%\n",
      "coverage bender in pop culture: 1.16959064327485%\n",
      "coverage slang using cigarettes: 0.58479532163743%\n",
      "coverage slur in handles: 15.20467836257310%\n",
      "coverage has pronouns in bio: 9.35672514619883%\n"
     ]
    }
   ],
   "source": [
    "coverage_names_or_places, coverage_simple_insults,coverage_term_to_person,coverage_descriptive_bad,coverage_against_nature,coverage_trigger_warning,coverage_bender_as_drunk,coverage_bender_pop_culture,coverage_slang_using_cigarettes,coverage_slur_in_handles,coverage_has_pronouns = (L_train!=ABSTAIN).mean(axis=0)\n",
    "print(f\"coverage names or places: { coverage_names_or_places * 100:.14f}%\")\n",
    "print(f\"coverage simple insults: { coverage_simple_insults * 100:.14f}%\")\n",
    "print(f\"coverage term to person: { coverage_term_to_person * 100:.14f}%\")\n",
    "print(f\"coverage descriptive bad term: { coverage_descriptive_bad * 100:.14f}%\")\n",
    "print(f\"coverage against nature: { coverage_against_nature * 100:.14f}%\")\n",
    "print(f\"coverage trigger warning: { coverage_trigger_warning * 100:.14f}%\")\n",
    "print(f\"coverage bender as drunk: { coverage_bender_as_drunk * 100:.14f}%\")\n",
    "print(f\"coverage bender in pop culture: { coverage_bender_pop_culture * 100:.14f}%\")\n",
    "print(f\"coverage slang using cigarettes: { coverage_slang_using_cigarettes * 100:.14f}%\")\n",
    "print(f\"coverage slur in handles: { coverage_slur_in_handles * 100:.14f}%\")\n",
    "print(f\"coverage has pronouns in bio: { coverage_has_pronouns* 100:.14f}%\")\n"
   ]
  },
  {
   "cell_type": "code",
   "execution_count": 136,
   "metadata": {
    "scrolled": false
   },
   "outputs": [
    {
     "data": {
      "text/html": [
       "<div>\n",
       "<style scoped>\n",
       "    .dataframe tbody tr th:only-of-type {\n",
       "        vertical-align: middle;\n",
       "    }\n",
       "\n",
       "    .dataframe tbody tr th {\n",
       "        vertical-align: top;\n",
       "    }\n",
       "\n",
       "    .dataframe thead th {\n",
       "        text-align: right;\n",
       "    }\n",
       "</style>\n",
       "<table border=\"1\" class=\"dataframe\">\n",
       "  <thead>\n",
       "    <tr style=\"text-align: right;\">\n",
       "      <th></th>\n",
       "      <th>j</th>\n",
       "      <th>Polarity</th>\n",
       "      <th>Coverage</th>\n",
       "      <th>Overlaps</th>\n",
       "      <th>Conflicts</th>\n",
       "    </tr>\n",
       "  </thead>\n",
       "  <tbody>\n",
       "    <tr>\n",
       "      <th>names_or_places</th>\n",
       "      <td>0</td>\n",
       "      <td>[0]</td>\n",
       "      <td>0.076023</td>\n",
       "      <td>0.002924</td>\n",
       "      <td>0.000000</td>\n",
       "    </tr>\n",
       "    <tr>\n",
       "      <th>simple_insults</th>\n",
       "      <td>1</td>\n",
       "      <td>[1]</td>\n",
       "      <td>0.008772</td>\n",
       "      <td>0.000000</td>\n",
       "      <td>0.000000</td>\n",
       "    </tr>\n",
       "    <tr>\n",
       "      <th>term_to_person</th>\n",
       "      <td>2</td>\n",
       "      <td>[1]</td>\n",
       "      <td>0.026316</td>\n",
       "      <td>0.002924</td>\n",
       "      <td>0.002924</td>\n",
       "    </tr>\n",
       "    <tr>\n",
       "      <th>descriptive_bad</th>\n",
       "      <td>3</td>\n",
       "      <td>[1]</td>\n",
       "      <td>0.005848</td>\n",
       "      <td>0.000000</td>\n",
       "      <td>0.000000</td>\n",
       "    </tr>\n",
       "    <tr>\n",
       "      <th>against_nature</th>\n",
       "      <td>4</td>\n",
       "      <td>[]</td>\n",
       "      <td>0.000000</td>\n",
       "      <td>0.000000</td>\n",
       "      <td>0.000000</td>\n",
       "    </tr>\n",
       "    <tr>\n",
       "      <th>trigger_warning</th>\n",
       "      <td>5</td>\n",
       "      <td>[0]</td>\n",
       "      <td>0.002924</td>\n",
       "      <td>0.000000</td>\n",
       "      <td>0.000000</td>\n",
       "    </tr>\n",
       "    <tr>\n",
       "      <th>bender_as_drunk</th>\n",
       "      <td>6</td>\n",
       "      <td>[0]</td>\n",
       "      <td>0.020468</td>\n",
       "      <td>0.002924</td>\n",
       "      <td>0.000000</td>\n",
       "    </tr>\n",
       "    <tr>\n",
       "      <th>bender_pop_culture</th>\n",
       "      <td>7</td>\n",
       "      <td>[0]</td>\n",
       "      <td>0.011696</td>\n",
       "      <td>0.000000</td>\n",
       "      <td>0.000000</td>\n",
       "    </tr>\n",
       "    <tr>\n",
       "      <th>slang_using_cigarettes</th>\n",
       "      <td>8</td>\n",
       "      <td>[0]</td>\n",
       "      <td>0.005848</td>\n",
       "      <td>0.000000</td>\n",
       "      <td>0.000000</td>\n",
       "    </tr>\n",
       "    <tr>\n",
       "      <th>slur_in_handles</th>\n",
       "      <td>9</td>\n",
       "      <td>[0]</td>\n",
       "      <td>0.152047</td>\n",
       "      <td>0.023392</td>\n",
       "      <td>0.000000</td>\n",
       "    </tr>\n",
       "    <tr>\n",
       "      <th>has_pronouns</th>\n",
       "      <td>10</td>\n",
       "      <td>[0]</td>\n",
       "      <td>0.093567</td>\n",
       "      <td>0.032164</td>\n",
       "      <td>0.002924</td>\n",
       "    </tr>\n",
       "  </tbody>\n",
       "</table>\n",
       "</div>"
      ],
      "text/plain": [
       "                         j Polarity  Coverage  Overlaps  Conflicts\n",
       "names_or_places          0      [0]  0.076023  0.002924   0.000000\n",
       "simple_insults           1      [1]  0.008772  0.000000   0.000000\n",
       "term_to_person           2      [1]  0.026316  0.002924   0.002924\n",
       "descriptive_bad          3      [1]  0.005848  0.000000   0.000000\n",
       "against_nature           4       []  0.000000  0.000000   0.000000\n",
       "trigger_warning          5      [0]  0.002924  0.000000   0.000000\n",
       "bender_as_drunk          6      [0]  0.020468  0.002924   0.000000\n",
       "bender_pop_culture       7      [0]  0.011696  0.000000   0.000000\n",
       "slang_using_cigarettes   8      [0]  0.005848  0.000000   0.000000\n",
       "slur_in_handles          9      [0]  0.152047  0.023392   0.000000\n",
       "has_pronouns            10      [0]  0.093567  0.032164   0.002924"
      ]
     },
     "execution_count": 136,
     "metadata": {},
     "output_type": "execute_result"
    }
   ],
   "source": [
    "LFAnalysis(L=L_train, lfs=lfs).lf_summary()"
   ]
  },
  {
   "cell_type": "code",
   "execution_count": 141,
   "metadata": {
    "scrolled": false
   },
   "outputs": [
    {
     "data": {
      "text/html": [
       "<div>\n",
       "<style scoped>\n",
       "    .dataframe tbody tr th:only-of-type {\n",
       "        vertical-align: middle;\n",
       "    }\n",
       "\n",
       "    .dataframe tbody tr th {\n",
       "        vertical-align: top;\n",
       "    }\n",
       "\n",
       "    .dataframe thead th {\n",
       "        text-align: right;\n",
       "    }\n",
       "</style>\n",
       "<table border=\"1\" class=\"dataframe\">\n",
       "  <thead>\n",
       "    <tr style=\"text-align: right;\">\n",
       "      <th></th>\n",
       "      <th>TWEETID</th>\n",
       "      <th>USERID</th>\n",
       "      <th>TWEET</th>\n",
       "      <th>ISTYPEHOMOSEXUAL</th>\n",
       "      <th>ISTYPETRANSGENDER</th>\n",
       "      <th>ISTYPEBISEXUAL</th>\n",
       "      <th>HASPRONOUNS</th>\n",
       "      <th>ISHARASSMENT</th>\n",
       "      <th>AUTO_ISHARASSMENT</th>\n",
       "    </tr>\n",
       "  </thead>\n",
       "  <tbody>\n",
       "    <tr>\n",
       "      <th>67</th>\n",
       "      <td>1365301416873574400</td>\n",
       "      <td>1362080784417497093</td>\n",
       "      <td>Any other Alphas been fucked over by @Football...</td>\n",
       "      <td>1</td>\n",
       "      <td>0</td>\n",
       "      <td>0</td>\n",
       "      <td>0.0</td>\n",
       "      <td>1</td>\n",
       "      <td>None</td>\n",
       "    </tr>\n",
       "    <tr>\n",
       "      <th>288</th>\n",
       "      <td>1365295656563339265</td>\n",
       "      <td>1325247924</td>\n",
       "      <td>Ready to boycott every remake / reboot movie f...</td>\n",
       "      <td>1</td>\n",
       "      <td>0</td>\n",
       "      <td>0</td>\n",
       "      <td>0.0</td>\n",
       "      <td>1</td>\n",
       "      <td>None</td>\n",
       "    </tr>\n",
       "    <tr>\n",
       "      <th>74</th>\n",
       "      <td>1371949898208251904</td>\n",
       "      <td>2562590314</td>\n",
       "      <td>If we can have concerts and festivals safely t...</td>\n",
       "      <td>1</td>\n",
       "      <td>0</td>\n",
       "      <td>0</td>\n",
       "      <td>0.0</td>\n",
       "      <td>0</td>\n",
       "      <td>None</td>\n",
       "    </tr>\n",
       "  </tbody>\n",
       "</table>\n",
       "</div>"
      ],
      "text/plain": [
       "                 TWEETID               USERID  \\\n",
       "67   1365301416873574400  1362080784417497093   \n",
       "288  1365295656563339265           1325247924   \n",
       "74   1371949898208251904           2562590314   \n",
       "\n",
       "                                                 TWEET  ISTYPEHOMOSEXUAL  \\\n",
       "67   Any other Alphas been fucked over by @Football...                 1   \n",
       "288  Ready to boycott every remake / reboot movie f...                 1   \n",
       "74   If we can have concerts and festivals safely t...                 1   \n",
       "\n",
       "     ISTYPETRANSGENDER  ISTYPEBISEXUAL  HASPRONOUNS  ISHARASSMENT  \\\n",
       "67                   0               0          0.0             1   \n",
       "288                  0               0          0.0             1   \n",
       "74                   0               0          0.0             0   \n",
       "\n",
       "    AUTO_ISHARASSMENT  \n",
       "67               None  \n",
       "288              None  \n",
       "74               None  "
      ]
     },
     "execution_count": 141,
     "metadata": {},
     "output_type": "execute_result"
    }
   ],
   "source": [
    "df_train.iloc[L_train[:,1] == POSITIVE].sample(3, random_state=1)"
   ]
  },
  {
   "cell_type": "code",
   "execution_count": 142,
   "metadata": {},
   "outputs": [
    {
     "name": "stderr",
     "output_type": "stream",
     "text": [
      "100%|██████████| 169/169 [00:00<00:00, 6290.60it/s]\n"
     ]
    }
   ],
   "source": [
    "L_test = applier.apply(df=df_test)"
   ]
  },
  {
   "cell_type": "code",
   "execution_count": 143,
   "metadata": {},
   "outputs": [
    {
     "data": {
      "text/html": [
       "<div>\n",
       "<style scoped>\n",
       "    .dataframe tbody tr th:only-of-type {\n",
       "        vertical-align: middle;\n",
       "    }\n",
       "\n",
       "    .dataframe tbody tr th {\n",
       "        vertical-align: top;\n",
       "    }\n",
       "\n",
       "    .dataframe thead th {\n",
       "        text-align: right;\n",
       "    }\n",
       "</style>\n",
       "<table border=\"1\" class=\"dataframe\">\n",
       "  <thead>\n",
       "    <tr style=\"text-align: right;\">\n",
       "      <th></th>\n",
       "      <th>j</th>\n",
       "      <th>Polarity</th>\n",
       "      <th>Coverage</th>\n",
       "      <th>Overlaps</th>\n",
       "      <th>Conflicts</th>\n",
       "    </tr>\n",
       "  </thead>\n",
       "  <tbody>\n",
       "    <tr>\n",
       "      <th>names_or_places</th>\n",
       "      <td>0</td>\n",
       "      <td>[0]</td>\n",
       "      <td>0.076023</td>\n",
       "      <td>0.002924</td>\n",
       "      <td>0.000000</td>\n",
       "    </tr>\n",
       "    <tr>\n",
       "      <th>simple_insults</th>\n",
       "      <td>1</td>\n",
       "      <td>[1]</td>\n",
       "      <td>0.008772</td>\n",
       "      <td>0.000000</td>\n",
       "      <td>0.000000</td>\n",
       "    </tr>\n",
       "    <tr>\n",
       "      <th>term_to_person</th>\n",
       "      <td>2</td>\n",
       "      <td>[1]</td>\n",
       "      <td>0.026316</td>\n",
       "      <td>0.002924</td>\n",
       "      <td>0.002924</td>\n",
       "    </tr>\n",
       "    <tr>\n",
       "      <th>descriptive_bad</th>\n",
       "      <td>3</td>\n",
       "      <td>[1]</td>\n",
       "      <td>0.005848</td>\n",
       "      <td>0.000000</td>\n",
       "      <td>0.000000</td>\n",
       "    </tr>\n",
       "    <tr>\n",
       "      <th>against_nature</th>\n",
       "      <td>4</td>\n",
       "      <td>[]</td>\n",
       "      <td>0.000000</td>\n",
       "      <td>0.000000</td>\n",
       "      <td>0.000000</td>\n",
       "    </tr>\n",
       "    <tr>\n",
       "      <th>trigger_warning</th>\n",
       "      <td>5</td>\n",
       "      <td>[0]</td>\n",
       "      <td>0.002924</td>\n",
       "      <td>0.000000</td>\n",
       "      <td>0.000000</td>\n",
       "    </tr>\n",
       "    <tr>\n",
       "      <th>bender_as_drunk</th>\n",
       "      <td>6</td>\n",
       "      <td>[0]</td>\n",
       "      <td>0.020468</td>\n",
       "      <td>0.002924</td>\n",
       "      <td>0.000000</td>\n",
       "    </tr>\n",
       "    <tr>\n",
       "      <th>bender_pop_culture</th>\n",
       "      <td>7</td>\n",
       "      <td>[0]</td>\n",
       "      <td>0.011696</td>\n",
       "      <td>0.000000</td>\n",
       "      <td>0.000000</td>\n",
       "    </tr>\n",
       "    <tr>\n",
       "      <th>slang_using_cigarettes</th>\n",
       "      <td>8</td>\n",
       "      <td>[0]</td>\n",
       "      <td>0.005848</td>\n",
       "      <td>0.000000</td>\n",
       "      <td>0.000000</td>\n",
       "    </tr>\n",
       "    <tr>\n",
       "      <th>slur_in_handles</th>\n",
       "      <td>9</td>\n",
       "      <td>[0]</td>\n",
       "      <td>0.152047</td>\n",
       "      <td>0.023392</td>\n",
       "      <td>0.000000</td>\n",
       "    </tr>\n",
       "    <tr>\n",
       "      <th>has_pronouns</th>\n",
       "      <td>10</td>\n",
       "      <td>[0]</td>\n",
       "      <td>0.093567</td>\n",
       "      <td>0.032164</td>\n",
       "      <td>0.002924</td>\n",
       "    </tr>\n",
       "  </tbody>\n",
       "</table>\n",
       "</div>"
      ],
      "text/plain": [
       "                         j Polarity  Coverage  Overlaps  Conflicts\n",
       "names_or_places          0      [0]  0.076023  0.002924   0.000000\n",
       "simple_insults           1      [1]  0.008772  0.000000   0.000000\n",
       "term_to_person           2      [1]  0.026316  0.002924   0.002924\n",
       "descriptive_bad          3      [1]  0.005848  0.000000   0.000000\n",
       "against_nature           4       []  0.000000  0.000000   0.000000\n",
       "trigger_warning          5      [0]  0.002924  0.000000   0.000000\n",
       "bender_as_drunk          6      [0]  0.020468  0.002924   0.000000\n",
       "bender_pop_culture       7      [0]  0.011696  0.000000   0.000000\n",
       "slang_using_cigarettes   8      [0]  0.005848  0.000000   0.000000\n",
       "slur_in_handles          9      [0]  0.152047  0.023392   0.000000\n",
       "has_pronouns            10      [0]  0.093567  0.032164   0.002924"
      ]
     },
     "execution_count": 143,
     "metadata": {},
     "output_type": "execute_result"
    }
   ],
   "source": [
    "LFAnalysis(L=L_train, lfs=lfs).lf_summary()"
   ]
  },
  {
   "cell_type": "code",
   "execution_count": 144,
   "metadata": {},
   "outputs": [],
   "source": [
    "from snorkel.labeling.model import MajorityLabelVoter\n",
    "\n",
    "majority_model = MajorityLabelVoter()\n",
    "preds_train = majority_model.predict(L=L_train)"
   ]
  },
  {
   "cell_type": "code",
   "execution_count": 146,
   "metadata": {},
   "outputs": [
    {
     "data": {
      "text/plain": [
       "array([-1, -1, -1, -1, -1,  0, -1, -1, -1,  0, -1, -1, -1, -1,  0,  0, -1,\n",
       "       -1, -1, -1,  0, -1, -1, -1, -1,  0, -1, -1, -1,  1, -1,  0, -1,  0,\n",
       "       -1, -1,  0, -1, -1,  0, -1, -1,  0, -1,  0, -1,  0,  0, -1, -1,  1,\n",
       "       -1, -1, -1,  0, -1,  0,  0, -1, -1, -1, -1, -1, -1, -1, -1, -1,  0,\n",
       "        0, -1,  0,  0, -1,  0,  0, -1, -1, -1, -1, -1,  0, -1, -1, -1,  1,\n",
       "        0, -1,  0, -1, -1,  0, -1, -1, -1, -1,  0, -1, -1,  0, -1, -1, -1,\n",
       "       -1, -1, -1, -1,  0,  0, -1,  0,  0, -1, -1,  0, -1, -1,  0, -1, -1,\n",
       "        0, -1, -1, -1, -1, -1, -1, -1,  0,  0, -1, -1, -1,  0,  0, -1, -1,\n",
       "       -1, -1, -1,  0, -1, -1,  0,  0,  0, -1, -1, -1,  1, -1, -1, -1, -1,\n",
       "        0,  0, -1,  0, -1, -1, -1, -1, -1, -1,  0, -1,  0,  0, -1, -1,  0,\n",
       "        1, -1, -1, -1,  0,  0,  0, -1,  1, -1, -1,  1, -1, -1, -1, -1,  0,\n",
       "       -1,  0, -1, -1,  0,  1, -1, -1,  0, -1, -1, -1,  0, -1,  0, -1, -1,\n",
       "       -1,  0, -1,  0, -1, -1, -1,  0, -1,  0,  1,  0,  0, -1, -1, -1,  0,\n",
       "       -1, -1,  0,  0, -1,  0, -1,  0, -1, -1, -1, -1, -1,  0, -1,  0, -1,\n",
       "        0, -1, -1,  0, -1,  0, -1,  0,  0, -1,  0,  0, -1, -1,  0, -1, -1,\n",
       "       -1,  0,  0, -1, -1, -1,  0, -1, -1,  0,  0,  1,  0, -1, -1, -1,  0,\n",
       "       -1, -1,  0, -1,  0, -1, -1,  0,  0, -1,  0, -1, -1, -1, -1,  0,  0,\n",
       "       -1,  0, -1,  0, -1, -1, -1, -1,  0, -1, -1,  0, -1, -1, -1, -1, -1,\n",
       "        0, -1,  1,  0,  0, -1,  0, -1,  0,  0, -1,  0, -1,  1,  0, -1,  1,\n",
       "        0, -1,  0, -1, -1, -1,  0, -1,  0, -1, -1, -1, -1, -1, -1, -1,  0,\n",
       "       -1,  0])"
      ]
     },
     "execution_count": 146,
     "metadata": {},
     "output_type": "execute_result"
    }
   ],
   "source": [
    "preds_train"
   ]
  },
  {
   "cell_type": "code",
   "execution_count": 147,
   "metadata": {},
   "outputs": [],
   "source": [
    "from snorkel.labeling.model import LabelModel\n",
    "\n",
    "label_model = LabelModel(cardinality=2, verbose=True)\n",
    "label_model.fit(L_train=L_train, n_epochs=500, log_freq=100, seed=123)"
   ]
  },
  {
   "cell_type": "code",
   "execution_count": 149,
   "metadata": {},
   "outputs": [
    {
     "name": "stdout",
     "output_type": "stream",
     "text": [
      "Majority Vote Accuracy:   55.0%\n",
      "Label Model Accuracy:     53.254438%\n"
     ]
    }
   ],
   "source": [
    "majority_acc = majority_model.score(L=L_test, Y=Y_test, tie_break_policy=\"random\")[\n",
    "    \"accuracy\"\n",
    "]\n",
    "print(f\"{'Majority Vote Accuracy:':<25} {majority_acc * 100:.1f}%\")\n",
    "\n",
    "label_model_acc = label_model.score(L=L_test, Y=Y_test, tie_break_policy=\"random\")[\n",
    "    \"accuracy\"\n",
    "]\n",
    "print(f\"{'Label Model Accuracy:':<25} {label_model_acc * 100:1f}%\")"
   ]
  },
  {
   "cell_type": "code",
   "execution_count": 152,
   "metadata": {},
   "outputs": [
    {
     "ename": "NameError",
     "evalue": "name 'probs_train' is not defined",
     "output_type": "error",
     "traceback": [
      "\u001b[0;31m---------------------------------------------------------------------------\u001b[0m",
      "\u001b[0;31mNameError\u001b[0m                                 Traceback (most recent call last)",
      "\u001b[0;32m<ipython-input-152-c6c0f66c3d50>\u001b[0m in \u001b[0;36m<module>\u001b[0;34m\u001b[0m\n\u001b[1;32m      2\u001b[0m \u001b[0;34m\u001b[0m\u001b[0m\n\u001b[1;32m      3\u001b[0m df_train_filtered, probs_train_filtered = filter_unlabeled_dataframe(\n\u001b[0;32m----> 4\u001b[0;31m     \u001b[0mX\u001b[0m\u001b[0;34m=\u001b[0m\u001b[0mdf_train\u001b[0m\u001b[0;34m,\u001b[0m \u001b[0mY\u001b[0m\u001b[0;34m=\u001b[0m\u001b[0mprobs_train\u001b[0m\u001b[0;34m,\u001b[0m \u001b[0mL\u001b[0m\u001b[0;34m=\u001b[0m\u001b[0mL_train\u001b[0m\u001b[0;34m\u001b[0m\u001b[0;34m\u001b[0m\u001b[0m\n\u001b[0m\u001b[1;32m      5\u001b[0m )\n",
      "\u001b[0;31mNameError\u001b[0m: name 'probs_train' is not defined"
     ]
    }
   ],
   "source": [
    "from snorkel.labeling import filter_unlabeled_dataframe\n",
    "\n",
    "df_train_filtered, probs_train_filtered = filter_unlabeled_dataframe(\n",
    "    X=df_train, Y=probs_train, L=L_train\n",
    ")"
   ]
  },
  {
   "cell_type": "code",
   "execution_count": 153,
   "metadata": {},
   "outputs": [
    {
     "ename": "NameError",
     "evalue": "name 'df_train_filtered' is not defined",
     "output_type": "error",
     "traceback": [
      "\u001b[0;31m---------------------------------------------------------------------------\u001b[0m",
      "\u001b[0;31mNameError\u001b[0m                                 Traceback (most recent call last)",
      "\u001b[0;32m<ipython-input-153-bb08a83d8bb9>\u001b[0m in \u001b[0;36m<module>\u001b[0;34m\u001b[0m\n\u001b[1;32m      2\u001b[0m \u001b[0;34m\u001b[0m\u001b[0m\n\u001b[1;32m      3\u001b[0m \u001b[0mvectorizer\u001b[0m \u001b[0;34m=\u001b[0m \u001b[0mCountVectorizer\u001b[0m\u001b[0;34m(\u001b[0m\u001b[0mngram_range\u001b[0m\u001b[0;34m=\u001b[0m\u001b[0;34m(\u001b[0m\u001b[0;36m1\u001b[0m\u001b[0;34m,\u001b[0m \u001b[0;36m5\u001b[0m\u001b[0;34m)\u001b[0m\u001b[0;34m)\u001b[0m\u001b[0;34m\u001b[0m\u001b[0;34m\u001b[0m\u001b[0m\n\u001b[0;32m----> 4\u001b[0;31m \u001b[0mX_train\u001b[0m \u001b[0;34m=\u001b[0m \u001b[0mvectorizer\u001b[0m\u001b[0;34m.\u001b[0m\u001b[0mfit_transform\u001b[0m\u001b[0;34m(\u001b[0m\u001b[0mdf_train_filtered\u001b[0m\u001b[0;34m.\u001b[0m\u001b[0mtext\u001b[0m\u001b[0;34m.\u001b[0m\u001b[0mtolist\u001b[0m\u001b[0;34m(\u001b[0m\u001b[0;34m)\u001b[0m\u001b[0;34m)\u001b[0m\u001b[0;34m\u001b[0m\u001b[0;34m\u001b[0m\u001b[0m\n\u001b[0m\u001b[1;32m      5\u001b[0m \u001b[0mX_test\u001b[0m \u001b[0;34m=\u001b[0m \u001b[0mvectorizer\u001b[0m\u001b[0;34m.\u001b[0m\u001b[0mtransform\u001b[0m\u001b[0;34m(\u001b[0m\u001b[0mdf_test\u001b[0m\u001b[0;34m.\u001b[0m\u001b[0mtext\u001b[0m\u001b[0;34m.\u001b[0m\u001b[0mtolist\u001b[0m\u001b[0;34m(\u001b[0m\u001b[0;34m)\u001b[0m\u001b[0;34m)\u001b[0m\u001b[0;34m\u001b[0m\u001b[0;34m\u001b[0m\u001b[0m\n",
      "\u001b[0;31mNameError\u001b[0m: name 'df_train_filtered' is not defined"
     ]
    }
   ],
   "source": [
    "from sklearn.feature_extraction.text import CountVectorizer\n",
    "\n",
    "vectorizer = CountVectorizer(ngram_range=(1, 5))\n",
    "X_train = vectorizer.fit_transform(df_train_filtered.text.tolist())\n",
    "X_test = vectorizer.transform(df_test.text.tolist())"
   ]
  },
  {
   "cell_type": "code",
   "execution_count": 154,
   "metadata": {},
   "outputs": [
    {
     "ename": "NameError",
     "evalue": "name 'probs_train_filtered' is not defined",
     "output_type": "error",
     "traceback": [
      "\u001b[0;31m---------------------------------------------------------------------------\u001b[0m",
      "\u001b[0;31mNameError\u001b[0m                                 Traceback (most recent call last)",
      "\u001b[0;32m<ipython-input-154-4c56b2c9941e>\u001b[0m in \u001b[0;36m<module>\u001b[0;34m\u001b[0m\n\u001b[1;32m      1\u001b[0m \u001b[0;32mfrom\u001b[0m \u001b[0msnorkel\u001b[0m\u001b[0;34m.\u001b[0m\u001b[0mutils\u001b[0m \u001b[0;32mimport\u001b[0m \u001b[0mprobs_to_preds\u001b[0m\u001b[0;34m\u001b[0m\u001b[0;34m\u001b[0m\u001b[0m\n\u001b[1;32m      2\u001b[0m \u001b[0;34m\u001b[0m\u001b[0m\n\u001b[0;32m----> 3\u001b[0;31m \u001b[0mpreds_train_filtered\u001b[0m \u001b[0;34m=\u001b[0m \u001b[0mprobs_to_preds\u001b[0m\u001b[0;34m(\u001b[0m\u001b[0mprods\u001b[0m\u001b[0;34m=\u001b[0m\u001b[0mprobs_train_filtered\u001b[0m\u001b[0;34m)\u001b[0m\u001b[0;34m\u001b[0m\u001b[0;34m\u001b[0m\u001b[0m\n\u001b[0m",
      "\u001b[0;31mNameError\u001b[0m: name 'probs_train_filtered' is not defined"
     ]
    }
   ],
   "source": [
    "from snorkel.utils import probs_to_preds\n",
    "\n",
    "preds_train_filtered = probs_to_preds(prods=probs_train_filtered)"
   ]
  },
  {
   "cell_type": "code",
   "execution_count": 156,
   "metadata": {},
   "outputs": [
    {
     "ename": "NameError",
     "evalue": "name 'X_train' is not defined",
     "output_type": "error",
     "traceback": [
      "\u001b[0;31m---------------------------------------------------------------------------\u001b[0m",
      "\u001b[0;31mNameError\u001b[0m                                 Traceback (most recent call last)",
      "\u001b[0;32m<ipython-input-156-2288d84a1c89>\u001b[0m in \u001b[0;36m<module>\u001b[0;34m\u001b[0m\n\u001b[1;32m      2\u001b[0m \u001b[0;34m\u001b[0m\u001b[0m\n\u001b[1;32m      3\u001b[0m \u001b[0msklearn_model\u001b[0m \u001b[0;34m=\u001b[0m \u001b[0mLogisticRegression\u001b[0m\u001b[0;34m(\u001b[0m\u001b[0mC\u001b[0m\u001b[0;34m=\u001b[0m\u001b[0;36m1e3\u001b[0m\u001b[0;34m,\u001b[0m \u001b[0msolver\u001b[0m\u001b[0;34m=\u001b[0m\u001b[0;34m\"liblinear\"\u001b[0m\u001b[0;34m)\u001b[0m\u001b[0;34m\u001b[0m\u001b[0;34m\u001b[0m\u001b[0m\n\u001b[0;32m----> 4\u001b[0;31m \u001b[0msklearn_model\u001b[0m\u001b[0;34m.\u001b[0m\u001b[0mfit\u001b[0m\u001b[0;34m(\u001b[0m\u001b[0mX\u001b[0m\u001b[0;34m=\u001b[0m\u001b[0mX_train\u001b[0m\u001b[0;34m,\u001b[0m \u001b[0my\u001b[0m\u001b[0;34m=\u001b[0m\u001b[0mpreds_train_filtered\u001b[0m\u001b[0;34m)\u001b[0m\u001b[0;34m\u001b[0m\u001b[0;34m\u001b[0m\u001b[0m\n\u001b[0m",
      "\u001b[0;31mNameError\u001b[0m: name 'X_train' is not defined"
     ]
    }
   ],
   "source": [
    "from sklearn.linear_model import LogisticRegression\n",
    "\n",
    "sklearn_model = LogisticRegression(C=1e3, solver=\"liblinear\")\n",
    "sklearn_model.fit(X=X_train, y=preds_train_filtered)"
   ]
  },
  {
   "cell_type": "code",
   "execution_count": 157,
   "metadata": {},
   "outputs": [
    {
     "ename": "NameError",
     "evalue": "name 'X_test' is not defined",
     "output_type": "error",
     "traceback": [
      "\u001b[0;31m---------------------------------------------------------------------------\u001b[0m",
      "\u001b[0;31mNameError\u001b[0m                                 Traceback (most recent call last)",
      "\u001b[0;32m<ipython-input-157-2ffdc2321129>\u001b[0m in \u001b[0;36m<module>\u001b[0;34m\u001b[0m\n\u001b[0;32m----> 1\u001b[0;31m \u001b[0mprint\u001b[0m\u001b[0;34m(\u001b[0m\u001b[0;34mf\"Test Accuracy: {sklearn_model.score(X=X_test, y=Y_test) * 100:.1f}%\"\u001b[0m\u001b[0;34m)\u001b[0m\u001b[0;34m\u001b[0m\u001b[0;34m\u001b[0m\u001b[0m\n\u001b[0m",
      "\u001b[0;31mNameError\u001b[0m: name 'X_test' is not defined"
     ]
    }
   ],
   "source": [
    "print(f\"Test Accuracy: {sklearn_model.score(X=X_test, y=Y_test) * 100:.1f}%\")"
   ]
  },
  {
   "cell_type": "code",
   "execution_count": null,
   "metadata": {},
   "outputs": [],
   "source": []
  }
 ],
 "metadata": {
  "kernelspec": {
   "display_name": "Python 3",
   "language": "python",
   "name": "python3"
  },
  "language_info": {
   "codemirror_mode": {
    "name": "ipython",
    "version": 3
   },
   "file_extension": ".py",
   "mimetype": "text/x-python",
   "name": "python",
   "nbconvert_exporter": "python",
   "pygments_lexer": "ipython3",
   "version": "3.8.5"
  }
 },
 "nbformat": 4,
 "nbformat_minor": 4
}
